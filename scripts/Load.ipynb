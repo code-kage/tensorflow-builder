{
 "cells": [
  {
   "cell_type": "code",
   "execution_count": 67,
   "metadata": {},
   "outputs": [],
   "source": [
    "from json import load, dump"
   ]
  },
  {
   "cell_type": "code",
   "execution_count": 68,
   "metadata": {},
   "outputs": [],
   "source": [
    "with open(\"../temp/load.json\",\"r\") as file:\n",
    "    conf = load(file)"
   ]
  },
  {
   "cell_type": "code",
   "execution_count": 69,
   "metadata": {},
   "outputs": [],
   "source": [
    "def get_dummy():\n",
    "    return {\n",
    "        'id': '',\n",
    "        'name': ' 3',\n",
    "        'type': {'name': 'Dense', '_class': 'layers'},\n",
    "        'pos': {'x': 271, 'y': 0, 'offsetX': 40.6, 'offsetY': 5},\n",
    "        'connections': {'inbound': [], 'outbound': []},\n",
    "        'width': 100,\n",
    "        'arguments': {}\n",
    "    }\n",
    "\n",
    "ops = []\n",
    "x = 271\n",
    "y = 350\n",
    "\n",
    "for i in range(3,150):\n",
    "    ex = get_dummy()\n",
    "    ex['id'] = f\"dense_{i}\"\n",
    "    ex['name'] = f\"Dense {i}\"\n",
    "    \n",
    "    ex['pos']['x'] = x\n",
    "    ex['pos']['y'] = y\n",
    "    y += 50\n",
    "    \n",
    "    ex['connections']['inbound'] = [f'dense_{i-1}']\n",
    "    ex['connections']['outbound'] = [f'dense_{i+1}']\n",
    "    \n",
    "    ops.append(ex)\n",
    "    \n",
    "ops[-1]['connections']['outbound'] = []"
   ]
  },
  {
   "cell_type": "code",
   "execution_count": 70,
   "metadata": {},
   "outputs": [],
   "source": [
    "for op in ops:\n",
    "    conf[op['id']] = op"
   ]
  },
  {
   "cell_type": "code",
   "execution_count": 71,
   "metadata": {},
   "outputs": [],
   "source": [
    "with open(\"../temp/load_test.json\",\"w+\") as file:\n",
    "    conf = dump(conf,file)"
   ]
  },
  {
   "cell_type": "code",
   "execution_count": null,
   "metadata": {},
   "outputs": [],
   "source": []
  },
  {
   "cell_type": "code",
   "execution_count": null,
   "metadata": {},
   "outputs": [],
   "source": []
  }
 ],
 "metadata": {
  "kernelspec": {
   "display_name": "Python 3",
   "language": "python",
   "name": "python3"
  },
  "language_info": {
   "codemirror_mode": {
    "name": "ipython",
    "version": 3
   },
   "file_extension": ".py",
   "mimetype": "text/x-python",
   "name": "python",
   "nbconvert_exporter": "python",
   "pygments_lexer": "ipython3",
   "version": "3.8.0"
  }
 },
 "nbformat": 4,
 "nbformat_minor": 4
}
