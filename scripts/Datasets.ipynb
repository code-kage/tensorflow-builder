{
 "cells": [
  {
   "cell_type": "code",
   "execution_count": 2,
   "metadata": {},
   "outputs": [],
   "source": [
    "import tensorflow as tf\n",
    "\n",
    "from tensorflow import keras \n",
    "from tensorflow.keras import layers,optimizers,losses,callbacks"
   ]
  },
  {
   "cell_type": "markdown",
   "metadata": {},
   "source": [
    "### Dataset"
   ]
  },
  {
   "cell_type": "code",
   "execution_count": 5,
   "metadata": {},
   "outputs": [],
   "source": [
    "class Dataset:\n",
    "    \"\"\"\n",
    "    Dataset will be used in training \n",
    "\n",
    "    The dataset object needs to have following attributes\n",
    "\n",
    "    train_x : np.ndarray -> Training features\n",
    "    train_y : np.ndarray -> Training labels \n",
    "    test_x : np.ndarray -> Testing features\n",
    "    test_y : np.ndarray -> Testing labels\n",
    "\n",
    "    validate : bool -> Weather use validation data or not\n",
    "\n",
    "    batch_size : int -> Batch size\n",
    "    epochs : int -> Number of epochs\n",
    "    batches : int -> Number of batches ( Will be calculated automatically )\n",
    "    \"\"\"\n",
    "    train_x = None\n",
    "    test_x = None\n",
    "    train_y = None\n",
    "    test_y = None\n",
    "\n",
    "    validate = True\n",
    "\n",
    "    def __init__(self) -> None:\n",
    "        \"\"\"\n",
    "        Load dataset and set required variables.\n",
    "        \"\"\"\n",
    "        \n",
    "        self.train_x = None\n",
    "        self.train_y = None\n",
    "        self.test_x = None\n",
    "        self.test_y = None"
   ]
  },
  {
   "cell_type": "markdown",
   "metadata": {},
   "source": [
    "### MNIST"
   ]
  },
  {
   "cell_type": "code",
   "execution_count": 54,
   "metadata": {},
   "outputs": [],
   "source": [
    "class Dataset:\n",
    "    \"\"\"\n",
    "    Dataset will be used in training \n",
    "\n",
    "    The dataset object needs to have following attributes\n",
    "\n",
    "    train_x : np.ndarray -> Training features\n",
    "    train_y : np.ndarray -> Training labels \n",
    "    test_x : np.ndarray -> Testing features\n",
    "    test_y : np.ndarray -> Testing labels\n",
    "\n",
    "    validate : bool -> Weather use validation data or not\n",
    "\n",
    "    batch_size : int -> Batch size\n",
    "    epochs : int -> Number of epochs\n",
    "    batches : int -> Number of batches ( Will be calculated automatically )\n",
    "    \"\"\"\n",
    "    train_x = None\n",
    "    test_x = None\n",
    "    train_y = None\n",
    "    test_y = None\n",
    "\n",
    "    validate = True\n",
    "\n",
    "    def __init__(self) -> None:\n",
    "        \"\"\"\n",
    "        Load dataset and set required variables.\n",
    "        \"\"\"\n",
    "        \n",
    "        (X,Y),(x,y)  = keras.datasets.mnist.load_data()\n",
    "        \n",
    "        self.train_x = X.reshape(-1,784) / 255\n",
    "        self.train_y = keras.utils.to_categorical(Y)\n",
    "        self.test_x = x.reshape(-1,784) / 255\n",
    "        self.test_y = keras.utils.to_categorical(y)\n",
    "        \n",
    "        self.x_shape = (28, 28, 1)"
   ]
  },
  {
   "cell_type": "code",
   "execution_count": 55,
   "metadata": {},
   "outputs": [
    {
     "data": {
      "text/plain": [
       "((60000, 784), (60000, 10))"
      ]
     },
     "execution_count": 55,
     "metadata": {},
     "output_type": "execute_result"
    }
   ],
   "source": [
    "dataset = Dataset()\n",
    "dataset.train_x.shape,dataset.train_y.shape"
   ]
  },
  {
   "cell_type": "markdown",
   "metadata": {},
   "source": [
    "### Boston Housing"
   ]
  },
  {
   "cell_type": "code",
   "execution_count": 56,
   "metadata": {},
   "outputs": [],
   "source": [
    "class Dataset:\n",
    "    \"\"\"\n",
    "    Dataset will be used in training \n",
    "\n",
    "    The dataset object needs to have following attributes\n",
    "\n",
    "    train_x : np.ndarray -> Training features\n",
    "    train_y : np.ndarray -> Training labels \n",
    "    test_x : np.ndarray -> Testing features\n",
    "    test_y : np.ndarray -> Testing labels\n",
    "\n",
    "    validate : bool -> Weather use validation data or not\n",
    "\n",
    "    batch_size : int -> Batch size\n",
    "    epochs : int -> Number of epochs\n",
    "    batches : int -> Number of batches ( Will be calculated automatically )\n",
    "    \"\"\"\n",
    "    train_x = None\n",
    "    test_x = None\n",
    "    train_y = None\n",
    "    test_y = None\n",
    "\n",
    "    validate = True\n",
    "\n",
    "    def __init__(self) -> None:\n",
    "        \"\"\"\n",
    "        Load dataset and set required variables.\n",
    "        \"\"\"\n",
    "        \n",
    "        (X,Y),(x,y)  = keras.datasets.boston_housing.load_data()\n",
    "        \n",
    "        self.train_x = X \n",
    "        self.train_y = Y\n",
    "        self.test_x = x \n",
    "        self.test_y = y\n",
    "        \n",
    "        self.x_shape = (13,)"
   ]
  },
  {
   "cell_type": "code",
   "execution_count": 57,
   "metadata": {},
   "outputs": [
    {
     "data": {
      "text/plain": [
       "((404, 13), (404,))"
      ]
     },
     "execution_count": 57,
     "metadata": {},
     "output_type": "execute_result"
    }
   ],
   "source": [
    "dataset = Dataset()\n",
    "dataset.train_x.shape,dataset.train_y.shape"
   ]
  },
  {
   "cell_type": "markdown",
   "metadata": {},
   "source": [
    "### CIFAR10"
   ]
  },
  {
   "cell_type": "code",
   "execution_count": 58,
   "metadata": {},
   "outputs": [],
   "source": [
    "class Dataset:\n",
    "    \"\"\"\n",
    "    Dataset will be used in training \n",
    "\n",
    "    The dataset object needs to have following attributes\n",
    "\n",
    "    train_x : np.ndarray -> Training features\n",
    "    train_y : np.ndarray -> Training labels \n",
    "    test_x : np.ndarray -> Testing features\n",
    "    test_y : np.ndarray -> Testing labels\n",
    "\n",
    "    validate : bool -> Weather use validation data or not\n",
    "\n",
    "    batch_size : int -> Batch size\n",
    "    epochs : int -> Number of epochs\n",
    "    batches : int -> Number of batches ( Will be calculated automatically )\n",
    "    \"\"\"\n",
    "    train_x = None\n",
    "    test_x = None\n",
    "    train_y = None\n",
    "    test_y = None\n",
    "\n",
    "    validate = True\n",
    "\n",
    "    def __init__(self) -> None:\n",
    "        \"\"\"\n",
    "        Load dataset and set required variables.\n",
    "        \"\"\"\n",
    "        \n",
    "        (X,Y),(x,y)  = keras.datasets.cifar10.load_data()\n",
    "        \n",
    "        self.train_x = X.reshape(-1, 32, 32, 3) / 255\n",
    "        self.train_y = keras.utils.to_categorical(Y)\n",
    "        self.test_x = x.reshape(-1, 32, 32, 3) / 255\n",
    "        self.test_y = keras.utils.to_categorical(y)\n",
    "        \n",
    "        self.x_shape = (32, 32, 1)"
   ]
  },
  {
   "cell_type": "code",
   "execution_count": 59,
   "metadata": {},
   "outputs": [
    {
     "data": {
      "text/plain": [
       "((50000, 32, 32, 3), (50000, 10))"
      ]
     },
     "execution_count": 59,
     "metadata": {},
     "output_type": "execute_result"
    }
   ],
   "source": [
    "dataset = Dataset()\n",
    "dataset.train_x.shape,dataset.train_y.shape"
   ]
  },
  {
   "cell_type": "markdown",
   "metadata": {},
   "source": [
    "### CIFAR100"
   ]
  },
  {
   "cell_type": "code",
   "execution_count": 60,
   "metadata": {},
   "outputs": [],
   "source": [
    "class Dataset:\n",
    "    \"\"\"\n",
    "    Dataset will be used in training \n",
    "\n",
    "    The dataset object needs to have following attributes\n",
    "\n",
    "    train_x : np.ndarray -> Training features\n",
    "    train_y : np.ndarray -> Training labels \n",
    "    test_x : np.ndarray -> Testing features\n",
    "    test_y : np.ndarray -> Testing labels\n",
    "\n",
    "    validate : bool -> Weather use validation data or not\n",
    "\n",
    "    \"\"\"\n",
    "    train_x = None\n",
    "    test_x = None\n",
    "    train_y = None\n",
    "    test_y = None\n",
    "\n",
    "    validate = True\n",
    "\n",
    "    def __init__(self) -> None:\n",
    "        \"\"\"\n",
    "        Load dataset and set required variables.\n",
    "        \"\"\"\n",
    "        \n",
    "        (X,Y),(x,y)  = keras.datasets.cifar100.load_data()\n",
    "        \n",
    "        self.train_x = X.reshape(-1, 32, 32, 3) / 255\n",
    "        self.train_y = keras.utils.to_categorical(Y)\n",
    "        self.test_x = x.reshape(-1, 32, 32, 3) / 255\n",
    "        self.test_y = keras.utils.to_categorical(y)\n",
    "        \n",
    "        self.x_shape = (32, 32, 1)"
   ]
  },
  {
   "cell_type": "code",
   "execution_count": 61,
   "metadata": {},
   "outputs": [
    {
     "data": {
      "text/plain": [
       "((50000, 32, 32, 3), (50000, 100))"
      ]
     },
     "execution_count": 61,
     "metadata": {},
     "output_type": "execute_result"
    }
   ],
   "source": [
    "dataset = Dataset()\n",
    "dataset.train_x.shape,dataset.train_y.shape"
   ]
  },
  {
   "cell_type": "markdown",
   "metadata": {},
   "source": [
    "### Fashion MNIST"
   ]
  },
  {
   "cell_type": "code",
   "execution_count": 5,
   "metadata": {},
   "outputs": [],
   "source": [
    "class Dataset:\n",
    "    \"\"\"\n",
    "    Dataset will be used in training \n",
    "\n",
    "    The dataset object needs to have following attributes\n",
    "\n",
    "    train_x : np.ndarray -> Training features\n",
    "    train_y : np.ndarray -> Training labels \n",
    "    test_x : np.ndarray -> Testing features\n",
    "    test_y : np.ndarray -> Testing labels\n",
    "\n",
    "    validate : bool -> Weather use validation data or not\n",
    "\n",
    "    \"\"\"\n",
    "    train_x = None\n",
    "    test_x = None\n",
    "    train_y = None\n",
    "    test_y = None\n",
    "\n",
    "    validate = True\n",
    "\n",
    "    def __init__(self) -> None:\n",
    "        \"\"\"\n",
    "        Load dataset and set required variables.\n",
    "        \"\"\"\n",
    "        \n",
    "        (X,Y),(x,y)  = keras.datasets.fashion_mnist.load_data()\n",
    "        \n",
    "        self.train_x = X.reshape(-1, 28, 28, 3) / 255\n",
    "        self.train_y = keras.utils.to_categorical(Y)\n",
    "        self.test_x = x.reshape(-1, 28, 28, 3) / 255\n",
    "        self.test_y = keras.utils.to_categorical(y)\n",
    "        \n",
    "        self.x_shape = (28, 28, 1)"
   ]
  },
  {
   "cell_type": "markdown",
   "metadata": {},
   "source": []
  },
  {
   "cell_type": "code",
   "execution_count": 11,
   "metadata": {},
   "outputs": [],
   "source": [
    "class Dataset:\n",
    "    \"\"\"\n",
    "    Dataset will be used in training \n",
    "\n",
    "    The dataset object needs to have following attributes\n",
    "\n",
    "    train_x : np.ndarray -> Training features\n",
    "    train_y : np.ndarray -> Training labels \n",
    "    test_x : np.ndarray -> Testing features\n",
    "    test_y : np.ndarray -> Testing labels\n",
    "\n",
    "    validate : bool -> Weather use validation data or not\n",
    "\n",
    "    \"\"\"\n",
    "    train_x = None\n",
    "    test_x = None\n",
    "    train_y = None\n",
    "    test_y = None\n",
    "\n",
    "    validate = True\n",
    "\n",
    "    def __init__(self) -> None:\n",
    "        \"\"\"\n",
    "        Load dataset and set required variables.\n",
    "        \"\"\"\n",
    "        \n",
    "        (X,Y),(x,y)  = keras.datasets.imdb.load_data()\n",
    "        \n",
    "        self.train_x = X\n",
    "        self.train_y = Y\n",
    "        self.test_x = x\n",
    "        self.test_y = y\n",
    "        \n",
    "        self.x_shape = (None,)"
   ]
  },
  {
   "cell_type": "code",
   "execution_count": null,
   "metadata": {},
   "outputs": [],
   "source": []
  },
  {
   "cell_type": "code",
   "execution_count": null,
   "metadata": {},
   "outputs": [],
   "source": []
  }
 ],
 "metadata": {
  "kernelspec": {
   "display_name": "Python 3",
   "language": "python",
   "name": "python3"
  },
  "language_info": {
   "codemirror_mode": {
    "name": "ipython",
    "version": 3
   },
   "file_extension": ".py",
   "mimetype": "text/x-python",
   "name": "python",
   "nbconvert_exporter": "python",
   "pygments_lexer": "ipython3",
   "version": "3.8.0"
  }
 },
 "nbformat": 4,
 "nbformat_minor": 4
}
