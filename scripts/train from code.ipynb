{
 "cells": [
  {
   "cell_type": "code",
   "execution_count": 4,
   "metadata": {},
   "outputs": [],
   "source": [
    "import re\n",
    "\n",
    "import pandas as pd\n",
    "import numpy as np\n",
    "import tensorflow as tf\n",
    "\n",
    "from tensorflow import keras\n",
    "from tensorflow.keras import layers,optimizers,losses,metrics,callbacks\n",
    "\n",
    "from typing import List\n",
    "from json import load,dump\n",
    "\n",
    "from threading import Thread"
   ]
  },
  {
   "cell_type": "code",
   "execution_count": 5,
   "metadata": {},
   "outputs": [],
   "source": [
    "with open(\"../data/example_train.json\",\"r\") as build_file:\n",
    "    build_config = eval(build_file.read())\n",
    "    \n",
    "with open(\"../data/example_code.py\",\"r\") as code_file:\n",
    "    code = code_file.read()"
   ]
  },
  {
   "cell_type": "code",
   "execution_count": 7,
   "metadata": {},
   "outputs": [],
   "source": [
    "# build_config"
   ]
  },
  {
   "cell_type": "code",
   "execution_count": 66,
   "metadata": {},
   "outputs": [],
   "source": [
    "if len(re.findall(\"\"\"'REQUIRED'\"\"\",build_config.__str__())):\n",
    "    pass"
   ]
  },
  {
   "cell_type": "code",
   "execution_count": 16,
   "metadata": {},
   "outputs": [
    {
     "data": {
      "text/plain": [
       "'{\\'cifar10_1\\': {\\'id\\': \\'cifar10_1\\', \\'name\\': \\'CIFAR10 1\\', \\'type\\': {\\'_class\\': \\'datasets\\', \\'name\\': \\'Dataset\\'}, \\'pos\\': {\\'x\\': 22, \\'y\\': 29, \\'offsetX\\': 54, \\'offsetY\\': 20}, \\'connections\\': {\\'inbound\\': [], \\'outbound\\': [\\'input_1\\']}, \\'width\\': 108, \\'arguments\\': {\\'dataset\\': {\\'value\\': \\'\"\"\"\\\\nNote : Don\\\\\\'t change dataset id.\\\\nAll the required packages have been imported with their standard namespaces.\\\\n\\\\ntensorflow as tf\\\\nkeras as keras\\\\npandas as pd\\\\nnumpy as np\\\\n\\\\nfrom sklearn.model_selection , train_test_split\\\\n\"\"\"\\\\n\\\\n#dataset id=cifar10_1\\\\nclass Dataset:\\\\n    \"\"\"\\\\n    Dataset will be used in training \\\\n\\\\n    The dataset object needs to have following attributes\\\\n\\\\n    train_x : np.ndarray -> Training features\\\\n    train_y : np.ndarray -> Training labels \\\\n    test_x : np.ndarray -> Testing features\\\\n    test_y : np.ndarray -> Testing labels\\\\n\\\\n    validate : bool -> Weather use validation data or not\\\\n\\\\n    batch_size : int -> Batch size\\\\n    epochs : int -> Number of epochs\\\\n    batches : int -> Number of batches ( Will be calculated automatically )\\\\n    \"\"\"\\\\n    train_x = None\\\\n    test_x = None\\\\n    train_y = None\\\\n    test_y = None\\\\n\\\\n    validate = True\\\\n\\\\n    def __init__(self) -> None:\\\\n        \"\"\"\\\\n        Load dataset and set required variables.\\\\n        \"\"\"\\\\n        \\\\n        (X,Y),(x,y)  = keras.datasets.cifar10.load_data()\\\\n        \\\\n        self.train_x = X.reshape(-1, 32, 32, 3) / 255\\\\n        self.train_y = keras.utils.to_categorical(Y)\\\\n        self.test_x = x.reshape(-1, 32, 32, 3) / 255\\\\n        self.test_y = keras.utils.to_categorical(y)\\\\n        \\\\n        self.x_shape = (32, 32, 3)\\\\n    \\\\n# Do not change the anything.\\\\ncifar10_1 = Dataset()\\\\n#end-dataset id=cifar10_1\\\\n                    \\', \\'type\\': \\'dataset\\', \\'render\\': \\'dataset\\'}}}, \\'conv2d_1\\': {\\'id\\': \\'conv2d_1\\', \\'name\\': \\'Conv2D 1\\', \\'type\\': {\\'name\\': \\'Conv2D\\', \\'_class\\': \\'layers\\'}, \\'pos\\': {\\'x\\': 60, \\'y\\': 197, \\'offsetX\\': 48, \\'offsetY\\': 20}, \\'connections\\': {\\'inbound\\': [\\'input_1\\'], \\'outbound\\': [\\'conv2d_2\\']}, \\'width\\': 96, \\'arguments\\': {\\'filters\\': {\\'value\\': \\'200\\', \\'type\\': \\'str\\', \\'render\\': \\'text\\', \\'options\\': \\'filters\\'}, \\'kernel_size\\': {\\'value\\': \\'3\\', \\'type\\': \\'str\\', \\'render\\': \\'text\\', \\'options\\': \\'size\\'}, \\'strides\\': {\\'value\\': \\'(1, 1)\\', \\'type\\': \\'str\\', \\'render\\': \\'text\\', \\'options\\': \\'strides\\'}, \\'data_format\\': {\\'value\\': \\'None\\', \\'type\\': \\'str\\', \\'render\\': \\'text\\', \\'options\\': \\'format\\'}, \\'dilation_rate\\': {\\'value\\': \\'(1, 1)\\', \\'type\\': \\'str\\', \\'render\\': \\'text\\', \\'options\\': \\'rate\\'}, \\'groups\\': {\\'value\\': \\'1\\', \\'type\\': \\'str\\', \\'render\\': \\'text\\', \\'options\\': \\'groups\\'}, \\'activation\\': {\\'value\\': \\'relu\\', \\'type\\': \\'str\\', \\'render\\': \\'list\\', \\'options\\': \\'activation\\'}, \\'use_bias\\': {\\'value\\': \\'True\\', \\'type\\': \\'str\\', \\'render\\': \\'list\\', \\'options\\': \\'bool\\'}, \\'kernel_regularizer\\': {\\'value\\': \\'None\\', \\'type\\': \\'str\\', \\'render\\': \\'list\\', \\'options\\': \\'regularizer\\'}, \\'bias_regularizer\\': {\\'value\\': \\'None\\', \\'type\\': \\'str\\', \\'render\\': \\'list\\', \\'options\\': \\'regularizer\\'}, \\'activity_regularizer\\': {\\'value\\': \\'None\\', \\'type\\': \\'str\\', \\'render\\': \\'list\\', \\'options\\': \\'regularizer\\'}, \\'kernel_constraint\\': {\\'value\\': \\'None\\', \\'type\\': \\'str\\', \\'render\\': \\'list\\', \\'options\\': \\'constraint\\'}, \\'bias_constraint\\': {\\'value\\': \\'None\\', \\'type\\': \\'str\\', \\'render\\': \\'list\\', \\'options\\': \\'constraint\\'}}}, \\'conv2d_2\\': {\\'id\\': \\'conv2d_2\\', \\'name\\': \\'Conv2D 2\\', \\'type\\': {\\'name\\': \\'Conv2D\\', \\'_class\\': \\'layers\\'}, \\'pos\\': {\\'x\\': 64, \\'y\\': 261, \\'offsetX\\': 48, \\'offsetY\\': 20}, \\'connections\\': {\\'inbound\\': [\\'conv2d_1\\'], \\'outbound\\': [\\'maxpooling2d_1\\']}, \\'width\\': 96, \\'arguments\\': {\\'filters\\': {\\'value\\': \\'180\\', \\'type\\': \\'str\\', \\'render\\': \\'text\\', \\'options\\': \\'filters\\'}, \\'kernel_size\\': {\\'value\\': \\'3\\', \\'type\\': \\'str\\', \\'render\\': \\'text\\', \\'options\\': \\'size\\'}, \\'strides\\': {\\'value\\': \\'(1, 1)\\', \\'type\\': \\'str\\', \\'render\\': \\'text\\', \\'options\\': \\'strides\\'}, \\'data_format\\': {\\'value\\': \\'None\\', \\'type\\': \\'str\\', \\'render\\': \\'text\\', \\'options\\': \\'format\\'}, \\'dilation_rate\\': {\\'value\\': \\'(1, 1)\\', \\'type\\': \\'str\\', \\'render\\': \\'text\\', \\'options\\': \\'rate\\'}, \\'groups\\': {\\'value\\': \\'1\\', \\'type\\': \\'str\\', \\'render\\': \\'text\\', \\'options\\': \\'groups\\'}, \\'activation\\': {\\'value\\': \\'relu\\', \\'type\\': \\'str\\', \\'render\\': \\'list\\', \\'options\\': \\'activation\\'}, \\'use_bias\\': {\\'value\\': \\'True\\', \\'type\\': \\'str\\', \\'render\\': \\'list\\', \\'options\\': \\'bool\\'}, \\'kernel_regularizer\\': {\\'value\\': \\'None\\', \\'type\\': \\'str\\', \\'render\\': \\'list\\', \\'options\\': \\'regularizer\\'}, \\'bias_regularizer\\': {\\'value\\': \\'None\\', \\'type\\': \\'str\\', \\'render\\': \\'list\\', \\'options\\': \\'regularizer\\'}, \\'activity_regularizer\\': {\\'value\\': \\'None\\', \\'type\\': \\'str\\', \\'render\\': \\'list\\', \\'options\\': \\'regularizer\\'}, \\'kernel_constraint\\': {\\'value\\': \\'None\\', \\'type\\': \\'str\\', \\'render\\': \\'list\\', \\'options\\': \\'constraint\\'}, \\'bias_constraint\\': {\\'value\\': \\'None\\', \\'type\\': \\'str\\', \\'render\\': \\'list\\', \\'options\\': \\'constraint\\'}}}, \\'conv2d_3\\': {\\'id\\': \\'conv2d_3\\', \\'name\\': \\'Conv2D 3\\', \\'type\\': {\\'name\\': \\'Conv2D\\', \\'_class\\': \\'layers\\'}, \\'pos\\': {\\'x\\': 65, \\'y\\': 425, \\'offsetX\\': 48, \\'offsetY\\': 20}, \\'connections\\': {\\'inbound\\': [\\'maxpooling2d_1\\'], \\'outbound\\': [\\'conv2d_4\\']}, \\'width\\': 96, \\'arguments\\': {\\'filters\\': {\\'value\\': \\'180\\', \\'type\\': \\'str\\', \\'render\\': \\'text\\', \\'options\\': \\'filters\\'}, \\'kernel_size\\': {\\'value\\': \\'3\\', \\'type\\': \\'str\\', \\'render\\': \\'text\\', \\'options\\': \\'size\\'}, \\'strides\\': {\\'value\\': \\'(1, 1)\\', \\'type\\': \\'str\\', \\'render\\': \\'text\\', \\'options\\': \\'strides\\'}, \\'data_format\\': {\\'value\\': \\'None\\', \\'type\\': \\'str\\', \\'render\\': \\'text\\', \\'options\\': \\'format\\'}, \\'dilation_rate\\': {\\'value\\': \\'(1, 1)\\', \\'type\\': \\'str\\', \\'render\\': \\'text\\', \\'options\\': \\'rate\\'}, \\'groups\\': {\\'value\\': \\'1\\', \\'type\\': \\'str\\', \\'render\\': \\'text\\', \\'options\\': \\'groups\\'}, \\'activation\\': {\\'value\\': \\'relu\\', \\'type\\': \\'str\\', \\'render\\': \\'list\\', \\'options\\': \\'activation\\'}, \\'use_bias\\': {\\'value\\': \\'True\\', \\'type\\': \\'str\\', \\'render\\': \\'list\\', \\'options\\': \\'bool\\'}, \\'kernel_regularizer\\': {\\'value\\': \\'None\\', \\'type\\': \\'str\\', \\'render\\': \\'list\\', \\'options\\': \\'regularizer\\'}, \\'bias_regularizer\\': {\\'value\\': \\'None\\', \\'type\\': \\'str\\', \\'render\\': \\'list\\', \\'options\\': \\'regularizer\\'}, \\'activity_regularizer\\': {\\'value\\': \\'None\\', \\'type\\': \\'str\\', \\'render\\': \\'list\\', \\'options\\': \\'regularizer\\'}, \\'kernel_constraint\\': {\\'value\\': \\'None\\', \\'type\\': \\'str\\', \\'render\\': \\'list\\', \\'options\\': \\'constraint\\'}, \\'bias_constraint\\': {\\'value\\': \\'None\\', \\'type\\': \\'str\\', \\'render\\': \\'list\\', \\'options\\': \\'constraint\\'}}}, \\'conv2d_4\\': {\\'id\\': \\'conv2d_4\\', \\'name\\': \\'Conv2D 4\\', \\'type\\': {\\'name\\': \\'Conv2D\\', \\'_class\\': \\'layers\\'}, \\'pos\\': {\\'x\\': 72, \\'y\\': 515, \\'offsetX\\': 48, \\'offsetY\\': 20}, \\'connections\\': {\\'inbound\\': [\\'conv2d_3\\'], \\'outbound\\': [\\'conv2d_5\\']}, \\'width\\': 96, \\'arguments\\': {\\'filters\\': {\\'value\\': \\'140\\', \\'type\\': \\'str\\', \\'render\\': \\'text\\', \\'options\\': \\'filters\\'}, \\'kernel_size\\': {\\'value\\': \\'3\\', \\'type\\': \\'str\\', \\'render\\': \\'text\\', \\'options\\': \\'size\\'}, \\'strides\\': {\\'value\\': \\'(1, 1)\\', \\'type\\': \\'str\\', \\'render\\': \\'text\\', \\'options\\': \\'strides\\'}, \\'data_format\\': {\\'value\\': \\'None\\', \\'type\\': \\'str\\', \\'render\\': \\'text\\', \\'options\\': \\'format\\'}, \\'dilation_rate\\': {\\'value\\': \\'(1, 1)\\', \\'type\\': \\'str\\', \\'render\\': \\'text\\', \\'options\\': \\'rate\\'}, \\'groups\\': {\\'value\\': \\'1\\', \\'type\\': \\'str\\', \\'render\\': \\'text\\', \\'options\\': \\'groups\\'}, \\'activation\\': {\\'value\\': \\'relu\\', \\'type\\': \\'str\\', \\'render\\': \\'list\\', \\'options\\': \\'activation\\'}, \\'use_bias\\': {\\'value\\': \\'True\\', \\'type\\': \\'str\\', \\'render\\': \\'list\\', \\'options\\': \\'bool\\'}, \\'kernel_regularizer\\': {\\'value\\': \\'None\\', \\'type\\': \\'str\\', \\'render\\': \\'list\\', \\'options\\': \\'regularizer\\'}, \\'bias_regularizer\\': {\\'value\\': \\'None\\', \\'type\\': \\'str\\', \\'render\\': \\'list\\', \\'options\\': \\'regularizer\\'}, \\'activity_regularizer\\': {\\'value\\': \\'None\\', \\'type\\': \\'str\\', \\'render\\': \\'list\\', \\'options\\': \\'regularizer\\'}, \\'kernel_constraint\\': {\\'value\\': \\'None\\', \\'type\\': \\'str\\', \\'render\\': \\'list\\', \\'options\\': \\'constraint\\'}, \\'bias_constraint\\': {\\'value\\': \\'None\\', \\'type\\': \\'str\\', \\'render\\': \\'list\\', \\'options\\': \\'constraint\\'}}}, \\'conv2d_5\\': {\\'id\\': \\'conv2d_5\\', \\'name\\': \\'Conv2D 5\\', \\'type\\': {\\'name\\': \\'Conv2D\\', \\'_class\\': \\'layers\\'}, \\'pos\\': {\\'x\\': 79, \\'y\\': 603, \\'offsetX\\': 48, \\'offsetY\\': 20}, \\'connections\\': {\\'inbound\\': [\\'conv2d_4\\'], \\'outbound\\': [\\'conv2d_6\\']}, \\'width\\': 96, \\'arguments\\': {\\'filters\\': {\\'value\\': \\'100\\', \\'type\\': \\'str\\', \\'render\\': \\'text\\', \\'options\\': \\'filters\\'}, \\'kernel_size\\': {\\'value\\': \\'3\\', \\'type\\': \\'str\\', \\'render\\': \\'text\\', \\'options\\': \\'size\\'}, \\'strides\\': {\\'value\\': \\'(1, 1)\\', \\'type\\': \\'str\\', \\'render\\': \\'text\\', \\'options\\': \\'strides\\'}, \\'data_format\\': {\\'value\\': \\'None\\', \\'type\\': \\'str\\', \\'render\\': \\'text\\', \\'options\\': \\'format\\'}, \\'dilation_rate\\': {\\'value\\': \\'(1, 1)\\', \\'type\\': \\'str\\', \\'render\\': \\'text\\', \\'options\\': \\'rate\\'}, \\'groups\\': {\\'value\\': \\'1\\', \\'type\\': \\'str\\', \\'render\\': \\'text\\', \\'options\\': \\'groups\\'}, \\'activation\\': {\\'value\\': \\'relu\\', \\'type\\': \\'str\\', \\'render\\': \\'list\\', \\'options\\': \\'activation\\'}, \\'use_bias\\': {\\'value\\': \\'True\\', \\'type\\': \\'str\\', \\'render\\': \\'list\\', \\'options\\': \\'bool\\'}, \\'kernel_regularizer\\': {\\'value\\': \\'None\\', \\'type\\': \\'str\\', \\'render\\': \\'list\\', \\'options\\': \\'regularizer\\'}, \\'bias_regularizer\\': {\\'value\\': \\'None\\', \\'type\\': \\'str\\', \\'render\\': \\'list\\', \\'options\\': \\'regularizer\\'}, \\'activity_regularizer\\': {\\'value\\': \\'None\\', \\'type\\': \\'str\\', \\'render\\': \\'list\\', \\'options\\': \\'regularizer\\'}, \\'kernel_constraint\\': {\\'value\\': \\'None\\', \\'type\\': \\'str\\', \\'render\\': \\'list\\', \\'options\\': \\'constraint\\'}, \\'bias_constraint\\': {\\'value\\': \\'None\\', \\'type\\': \\'str\\', \\'render\\': \\'list\\', \\'options\\': \\'constraint\\'}}}, \\'conv2d_6\\': {\\'id\\': \\'conv2d_6\\', \\'name\\': \\'Conv2D 6\\', \\'type\\': {\\'name\\': \\'Conv2D\\', \\'_class\\': \\'layers\\'}, \\'pos\\': {\\'x\\': 107, \\'y\\': 682, \\'offsetX\\': 48, \\'offsetY\\': 20}, \\'connections\\': {\\'inbound\\': [\\'conv2d_5\\'], \\'outbound\\': [\\'maxpooling2d_2\\']}, \\'width\\': 96, \\'arguments\\': {\\'filters\\': {\\'value\\': \\'50\\', \\'type\\': \\'str\\', \\'render\\': \\'text\\', \\'options\\': \\'filters\\'}, \\'kernel_size\\': {\\'value\\': \\'3\\', \\'type\\': \\'str\\', \\'render\\': \\'text\\', \\'options\\': \\'size\\'}, \\'strides\\': {\\'value\\': \\'(1, 1)\\', \\'type\\': \\'str\\', \\'render\\': \\'text\\', \\'options\\': \\'strides\\'}, \\'data_format\\': {\\'value\\': \\'None\\', \\'type\\': \\'str\\', \\'render\\': \\'text\\', \\'options\\': \\'format\\'}, \\'dilation_rate\\': {\\'value\\': \\'(1, 1)\\', \\'type\\': \\'str\\', \\'render\\': \\'text\\', \\'options\\': \\'rate\\'}, \\'groups\\': {\\'value\\': \\'1\\', \\'type\\': \\'str\\', \\'render\\': \\'text\\', \\'options\\': \\'groups\\'}, \\'activation\\': {\\'value\\': \\'relu\\', \\'type\\': \\'str\\', \\'render\\': \\'list\\', \\'options\\': \\'activation\\'}, \\'use_bias\\': {\\'value\\': \\'True\\', \\'type\\': \\'str\\', \\'render\\': \\'list\\', \\'options\\': \\'bool\\'}, \\'kernel_regularizer\\': {\\'value\\': \\'None\\', \\'type\\': \\'str\\', \\'render\\': \\'list\\', \\'options\\': \\'regularizer\\'}, \\'bias_regularizer\\': {\\'value\\': \\'None\\', \\'type\\': \\'str\\', \\'render\\': \\'list\\', \\'options\\': \\'regularizer\\'}, \\'activity_regularizer\\': {\\'value\\': \\'None\\', \\'type\\': \\'str\\', \\'render\\': \\'list\\', \\'options\\': \\'regularizer\\'}, \\'kernel_constraint\\': {\\'value\\': \\'None\\', \\'type\\': \\'str\\', \\'render\\': \\'list\\', \\'options\\': \\'constraint\\'}, \\'bias_constraint\\': {\\'value\\': \\'None\\', \\'type\\': \\'str\\', \\'render\\': \\'list\\', \\'options\\': \\'constraint\\'}}}, \\'input_1\\': {\\'id\\': \\'input_1\\', \\'name\\': \\'Input 1\\', \\'type\\': {\\'name\\': \\'Input\\', \\'_class\\': \\'layers\\'}, \\'pos\\': {\\'x\\': 61, \\'y\\': 130, \\'offsetX\\': 42, \\'offsetY\\': 20}, \\'connections\\': {\\'inbound\\': [\\'cifar10_1\\'], \\'outbound\\': [\\'conv2d_1\\']}, \\'width\\': 84, \\'arguments\\': {\\'shape\\': {\\'value\\': \\'(32, 32, 3)\\', \\'type\\': \\'str\\', \\'render\\': \\'text\\', \\'options\\': \\'shape\\'}, \\'batch_size\\': {\\'value\\': \\'None\\', \\'type\\': \\'str\\', \\'render\\': \\'text\\', \\'options\\': \\'size\\'}, \\'name\\': {\\'value\\': \\'None\\', \\'type\\': \\'str\\', \\'render\\': \\'text\\', \\'options\\': \\'name\\'}, \\'dtype\\': {\\'value\\': \\'None\\', \\'type\\': \\'str\\', \\'render\\': \\'text\\', \\'options\\': \\'dtype\\'}, \\'sparse\\': {\\'value\\': \\'False\\', \\'type\\': \\'str\\', \\'render\\': \\'list\\', \\'options\\': \\'bool\\'}, \\'tensor\\': {\\'value\\': \\'None\\', \\'type\\': \\'str\\', \\'render\\': \\'text\\', \\'options\\': \\'tensor\\'}, \\'ragged\\': {\\'value\\': \\'False\\', \\'type\\': \\'str\\', \\'render\\': \\'list\\', \\'options\\': \\'bool\\'}}}, \\'dense_1\\': {\\'id\\': \\'dense_1\\', \\'name\\': \\'Dense 1\\', \\'type\\': {\\'name\\': \\'Dense\\', \\'_class\\': \\'layers\\'}, \\'pos\\': {\\'x\\': 498, \\'y\\': 32, \\'offsetX\\': 42, \\'offsetY\\': 20}, \\'connections\\': {\\'inbound\\': [\\'flatten_1\\'], \\'outbound\\': [\\'dense_2\\']}, \\'width\\': 84, \\'arguments\\': {\\'units\\': {\\'value\\': \\'180\\', \\'type\\': \\'str\\', \\'render\\': \\'text\\', \\'options\\': \\'units\\'}, \\'activation\\': {\\'value\\': \\'relu\\', \\'type\\': \\'str\\', \\'render\\': \\'list\\', \\'options\\': \\'activation\\'}, \\'use_bias\\': {\\'value\\': \\'True\\', \\'type\\': \\'str\\', \\'render\\': \\'list\\', \\'options\\': \\'bool\\'}, \\'kernel_regularizer\\': {\\'value\\': \\'None\\', \\'type\\': \\'str\\', \\'render\\': \\'list\\', \\'options\\': \\'regularizer\\'}, \\'bias_regularizer\\': {\\'value\\': \\'None\\', \\'type\\': \\'str\\', \\'render\\': \\'list\\', \\'options\\': \\'regularizer\\'}, \\'activity_regularizer\\': {\\'value\\': \\'None\\', \\'type\\': \\'str\\', \\'render\\': \\'list\\', \\'options\\': \\'regularizer\\'}, \\'kernel_constraint\\': {\\'value\\': \\'None\\', \\'type\\': \\'str\\', \\'render\\': \\'list\\', \\'options\\': \\'constraint\\'}, \\'bias_constraint\\': {\\'value\\': \\'None\\', \\'type\\': \\'str\\', \\'render\\': \\'list\\', \\'options\\': \\'constraint\\'}}}, \\'dense_2\\': {\\'id\\': \\'dense_2\\', \\'name\\': \\'Dense 2\\', \\'type\\': {\\'name\\': \\'Dense\\', \\'_class\\': \\'layers\\'}, \\'pos\\': {\\'x\\': 584, \\'y\\': 146, \\'offsetX\\': 42, \\'offsetY\\': 20}, \\'connections\\': {\\'inbound\\': [\\'dense_1\\'], \\'outbound\\': [\\'dense_3\\']}, \\'width\\': 84, \\'arguments\\': {\\'units\\': {\\'value\\': \\'100\\', \\'type\\': \\'str\\', \\'render\\': \\'text\\', \\'options\\': \\'units\\'}, \\'activation\\': {\\'value\\': \\'relu\\', \\'type\\': \\'str\\', \\'render\\': \\'list\\', \\'options\\': \\'activation\\'}, \\'use_bias\\': {\\'value\\': \\'True\\', \\'type\\': \\'str\\', \\'render\\': \\'list\\', \\'options\\': \\'bool\\'}, \\'kernel_regularizer\\': {\\'value\\': \\'None\\', \\'type\\': \\'str\\', \\'render\\': \\'list\\', \\'options\\': \\'regularizer\\'}, \\'bias_regularizer\\': {\\'value\\': \\'None\\', \\'type\\': \\'str\\', \\'render\\': \\'list\\', \\'options\\': \\'regularizer\\'}, \\'activity_regularizer\\': {\\'value\\': \\'None\\', \\'type\\': \\'str\\', \\'render\\': \\'list\\', \\'options\\': \\'regularizer\\'}, \\'kernel_constraint\\': {\\'value\\': \\'None\\', \\'type\\': \\'str\\', \\'render\\': \\'list\\', \\'options\\': \\'constraint\\'}, \\'bias_constraint\\': {\\'value\\': \\'None\\', \\'type\\': \\'str\\', \\'render\\': \\'list\\', \\'options\\': \\'constraint\\'}}}, \\'dense_3\\': {\\'id\\': \\'dense_3\\', \\'name\\': \\'Dense 3\\', \\'type\\': {\\'name\\': \\'Dense\\', \\'_class\\': \\'layers\\'}, \\'pos\\': {\\'x\\': 614, \\'y\\': 225, \\'offsetX\\': 42, \\'offsetY\\': 20}, \\'connections\\': {\\'inbound\\': [\\'dense_2\\'], \\'outbound\\': [\\'dropout_1\\']}, \\'width\\': 84, \\'arguments\\': {\\'units\\': {\\'value\\': \\'50\\', \\'type\\': \\'str\\', \\'render\\': \\'text\\', \\'options\\': \\'units\\'}, \\'activation\\': {\\'value\\': \\'relu\\', \\'type\\': \\'str\\', \\'render\\': \\'list\\', \\'options\\': \\'activation\\'}, \\'use_bias\\': {\\'value\\': \\'True\\', \\'type\\': \\'str\\', \\'render\\': \\'list\\', \\'options\\': \\'bool\\'}, \\'kernel_regularizer\\': {\\'value\\': \\'None\\', \\'type\\': \\'str\\', \\'render\\': \\'list\\', \\'options\\': \\'regularizer\\'}, \\'bias_regularizer\\': {\\'value\\': \\'None\\', \\'type\\': \\'str\\', \\'render\\': \\'list\\', \\'options\\': \\'regularizer\\'}, \\'activity_regularizer\\': {\\'value\\': \\'None\\', \\'type\\': \\'str\\', \\'render\\': \\'list\\', \\'options\\': \\'regularizer\\'}, \\'kernel_constraint\\': {\\'value\\': \\'None\\', \\'type\\': \\'str\\', \\'render\\': \\'list\\', \\'options\\': \\'constraint\\'}, \\'bias_constraint\\': {\\'value\\': \\'None\\', \\'type\\': \\'str\\', \\'render\\': \\'list\\', \\'options\\': \\'constraint\\'}}}, \\'maxpooling2d_1\\': {\\'id\\': \\'maxpooling2d_1\\', \\'name\\': \\'MaxPooling2D 1\\', \\'type\\': {\\'name\\': \\'MaxPooling2D\\', \\'_class\\': \\'layers\\'}, \\'pos\\': {\\'x\\': 28, \\'y\\': 332, \\'offsetX\\': 84, \\'offsetY\\': 20}, \\'connections\\': {\\'inbound\\': [\\'conv2d_2\\'], \\'outbound\\': [\\'conv2d_3\\']}, \\'width\\': 168, \\'arguments\\': {\\'pool_size\\': {\\'value\\': \\'(2, 2)\\', \\'type\\': \\'str\\', \\'render\\': \\'text\\', \\'options\\': \\'size\\'}, \\'strides\\': {\\'value\\': \\'None\\', \\'type\\': \\'str\\', \\'render\\': \\'text\\', \\'options\\': \\'None\\'}, \\'data_format\\': {\\'value\\': \\'None\\', \\'type\\': \\'str\\', \\'render\\': \\'text\\', \\'options\\': \\'format\\'}}}, \\'maxpooling2d_2\\': {\\'id\\': \\'maxpooling2d_2\\', \\'name\\': \\'MaxPooling2D 2\\', \\'type\\': {\\'name\\': \\'MaxPooling2D\\', \\'_class\\': \\'layers\\'}, \\'pos\\': {\\'x\\': 118, \\'y\\': 759, \\'offsetX\\': 84, \\'offsetY\\': 20}, \\'connections\\': {\\'inbound\\': [\\'conv2d_6\\'], \\'outbound\\': [\\'flatten_1\\']}, \\'width\\': 168, \\'arguments\\': {\\'pool_size\\': {\\'value\\': \\'(2, 2)\\', \\'type\\': \\'str\\', \\'render\\': \\'text\\', \\'options\\': \\'size\\'}, \\'strides\\': {\\'value\\': \\'None\\', \\'type\\': \\'str\\', \\'render\\': \\'text\\', \\'options\\': \\'None\\'}, \\'data_format\\': {\\'value\\': \\'None\\', \\'type\\': \\'str\\', \\'render\\': \\'text\\', \\'options\\': \\'format\\'}}}, \\'dropout_1\\': {\\'id\\': \\'dropout_1\\', \\'name\\': \\'Dropout 1\\', \\'type\\': {\\'name\\': \\'Dropout\\', \\'_class\\': \\'layers\\'}, \\'pos\\': {\\'x\\': 629, \\'y\\': 309, \\'offsetX\\': 54, \\'offsetY\\': 20}, \\'connections\\': {\\'inbound\\': [\\'dense_3\\'], \\'outbound\\': [\\'dense_6\\']}, \\'width\\': 108, \\'arguments\\': {\\'rate\\': {\\'value\\': \\'0.5\\', \\'type\\': \\'str\\', \\'render\\': \\'text\\', \\'options\\': \\'rate\\'}, \\'noise_shape\\': {\\'value\\': \\'None\\', \\'type\\': \\'str\\', \\'render\\': \\'text\\', \\'options\\': \\'shape\\'}, \\'seed\\': {\\'value\\': \\'None\\', \\'type\\': \\'str\\', \\'render\\': \\'text\\', \\'options\\': \\'None\\'}}}, \\'flatten_1\\': {\\'id\\': \\'flatten_1\\', \\'name\\': \\'Flatten 1\\', \\'type\\': {\\'name\\': \\'Flatten\\', \\'_class\\': \\'layers\\'}, \\'pos\\': {\\'x\\': 225, \\'y\\': 845, \\'offsetX\\': 54, \\'offsetY\\': 20}, \\'connections\\': {\\'inbound\\': [\\'maxpooling2d_2\\'], \\'outbound\\': [\\'dense_1\\']}, \\'width\\': 108, \\'arguments\\': {\\'data_format\\': {\\'value\\': \\'None\\', \\'type\\': \\'str\\', \\'render\\': \\'text\\', \\'options\\': \\'format\\'}}}, \\'compile_1\\': {\\'id\\': \\'compile_1\\', \\'name\\': \\'Compile 1\\', \\'type\\': {\\'name\\': \\'Compile\\', \\'_class\\': \\'models\\'}, \\'pos\\': {\\'x\\': 757, \\'y\\': 671, \\'offsetX\\': 54, \\'offsetY\\': 20}, \\'connections\\': {\\'inbound\\': [\\'model_1\\', \\'model_2\\'], \\'outbound\\': [\\'train_1\\']}, \\'width\\': 108, \\'arguments\\': {\\'optmizer\\': {\\'value\\': \\'None\\', \\'type\\': \\'str\\', \\'render\\': \\'list\\', \\'options\\': \\'optimizer\\'}, \\'loss\\': {\\'value\\': \\'categorical_crossentropy\\', \\'type\\': \\'str\\', \\'render\\': \\'list\\', \\'options\\': \\'loss\\'}, \\'metrics\\': {\\'value\\': [\\'categorical_accuracy\\'], \\'type\\': \\'str\\', \\'render\\': \\'checkbox\\', \\'options\\': \\'metrics\\'}}}, \\'train_1\\': {\\'id\\': \\'train_1\\', \\'name\\': \\'Train 1\\', \\'type\\': {\\'name\\': \\'Train\\', \\'_class\\': \\'models\\'}, \\'pos\\': {\\'x\\': 854, \\'y\\': 783, \\'offsetX\\': 42, \\'offsetY\\': 20}, \\'connections\\': {\\'inbound\\': [\\'compile_1\\'], \\'outbound\\': []}, \\'width\\': 84, \\'arguments\\': {\\'batch_size\\': {\\'value\\': \\'32\\', \\'type\\': \\'int\\', \\'render\\': \\'text\\', \\'options\\': \\'batch_size\\'}, \\'epochs\\': {\\'value\\': \\'3\\', \\'type\\': \\'int\\', \\'render\\': \\'text\\', \\'options\\': \\'batch_size\\'}}}, \\'adam_1\\': {\\'id\\': \\'adam_1\\', \\'name\\': \\'Adam 1\\', \\'type\\': {\\'name\\': \\'Adam\\', \\'_class\\': \\'optimizers\\'}, \\'pos\\': {\\'x\\': 941, \\'y\\': 526, \\'offsetX\\': 36, \\'offsetY\\': 20}, \\'connections\\': {\\'inbound\\': [], \\'outbound\\': [\\'compile_1\\']}, \\'width\\': 72, \\'arguments\\': {\\'learning_rate\\': {\\'value\\': \\'0.001\\', \\'type\\': \\'str\\', \\'render\\': \\'text\\', \\'options\\': \\'rate\\'}, \\'beta_1\\': {\\'value\\': \\'0.9\\', \\'type\\': \\'str\\', \\'render\\': \\'text\\', \\'options\\': \\'1\\'}, \\'beta_2\\': {\\'value\\': \\'0.999\\', \\'type\\': \\'str\\', \\'render\\': \\'text\\', \\'options\\': \\'2\\'}, \\'epsilon\\': {\\'value\\': \\'1e-07\\', \\'type\\': \\'str\\', \\'render\\': \\'text\\', \\'options\\': \\'epsilon\\'}, \\'amsgrad\\': {\\'value\\': \\'False\\', \\'type\\': \\'str\\', \\'render\\': \\'list\\', \\'options\\': \\'bool\\'}, \\'name\\': {\\'value\\': \\'Adam\\', \\'type\\': \\'str\\', \\'render\\': \\'text\\', \\'options\\': \\'name\\'}}}, \\'model_2\\': {\\'id\\': \\'model_2\\', \\'name\\': \\'Model 2\\', \\'type\\': {\\'name\\': \\'Model\\', \\'_class\\': \\'models\\'}, \\'pos\\': {\\'x\\': 723, \\'y\\': 568, \\'offsetX\\': 42, \\'offsetY\\': 20}, \\'connections\\': {\\'inbound\\': [\\'dense_6\\'], \\'outbound\\': [\\'compile_1\\']}, \\'width\\': 84, \\'arguments\\': {}}, \\'dense_6\\': {\\'id\\': \\'dense_6\\', \\'name\\': \\'Dense 6\\', \\'type\\': {\\'name\\': \\'Dense\\', \\'_class\\': \\'layers\\'}, \\'pos\\': {\\'x\\': 676, \\'y\\': 431, \\'offsetX\\': 42, \\'offsetY\\': 20}, \\'connections\\': {\\'inbound\\': [\\'dropout_1\\'], \\'outbound\\': [\\'model_2\\']}, \\'width\\': 84, \\'arguments\\': {\\'units\\': {\\'value\\': \\'REQUIRED\\', \\'type\\': \\'str\\', \\'render\\': \\'text\\', \\'options\\': \\'units\\'}, \\'activation\\': {\\'value\\': \\'None\\', \\'type\\': \\'str\\', \\'render\\': \\'list\\', \\'options\\': \\'activation\\'}, \\'use_bias\\': {\\'value\\': \\'True\\', \\'type\\': \\'str\\', \\'render\\': \\'list\\', \\'options\\': \\'bool\\'}, \\'kernel_regularizer\\': {\\'value\\': \\'None\\', \\'type\\': \\'str\\', \\'render\\': \\'list\\', \\'options\\': \\'regularizer\\'}, \\'bias_regularizer\\': {\\'value\\': \\'None\\', \\'type\\': \\'str\\', \\'render\\': \\'list\\', \\'options\\': \\'regularizer\\'}, \\'activity_regularizer\\': {\\'value\\': \\'None\\', \\'type\\': \\'str\\', \\'render\\': \\'list\\', \\'options\\': \\'regularizer\\'}, \\'kernel_constraint\\': {\\'value\\': \\'None\\', \\'type\\': \\'str\\', \\'render\\': \\'list\\', \\'options\\': \\'constraint\\'}, \\'bias_constraint\\': {\\'value\\': \\'None\\', \\'type\\': \\'str\\', \\'render\\': \\'list\\', \\'options\\': \\'constraint\\'}}}, \\'train_config\\': {\\'dataset\\': {\\'id\\': \\'cifar10_1\\', \\'value\\': \\'\"\"\"\\\\nNote : Don\\\\\\'t change dataset id.\\\\nAll the required packages have been imported with their standard namespaces.\\\\n\\\\ntensorflow as tf\\\\nkeras as keras\\\\npandas as pd\\\\nnumpy as np\\\\n\\\\nfrom sklearn.model_selection , train_test_split\\\\n\"\"\"\\\\n\\\\n#dataset id=cifar10_1\\\\nclass Dataset:\\\\n    \"\"\"\\\\n    Dataset will be used in training \\\\n\\\\n    The dataset object needs to have following attributes\\\\n\\\\n    train_x : np.ndarray -> Training features\\\\n    train_y : np.ndarray -> Training labels \\\\n    test_x : np.ndarray -> Testing features\\\\n    test_y : np.ndarray -> Testing labels\\\\n\\\\n    validate : bool -> Weather use validation data or not\\\\n\\\\n    batch_size : int -> Batch size\\\\n    epochs : int -> Number of epochs\\\\n    batches : int -> Number of batches ( Will be calculated automatically )\\\\n    \"\"\"\\\\n    train_x = None\\\\n    test_x = None\\\\n    train_y = None\\\\n    test_y = None\\\\n\\\\n    validate = True\\\\n\\\\n    def __init__(self) -> None:\\\\n        \"\"\"\\\\n        Load dataset and set required variables.\\\\n        \"\"\"\\\\n        \\\\n        (X,Y),(x,y)  = keras.datasets.cifar10.load_data()\\\\n        \\\\n        self.train_x = X.reshape(-1, 32, 32, 3) / 255\\\\n        self.train_y = keras.utils.to_categorical(Y)\\\\n        self.test_x = x.reshape(-1, 32, 32, 3) / 255\\\\n        self.test_y = keras.utils.to_categorical(y)\\\\n        \\\\n        self.x_shape = (32, 32, 3)\\\\n    \\\\n# Do not change the anything.\\\\ncifar10_1 = Dataset()\\\\n#end-dataset id=cifar10_1\\\\n                    \\'}, \\'optimizer\\': {\\'id\\': \\'adam_1\\', \\'value\\': \"adam_1 = optimizers.Adam(\\\\n    learning_rate=0.001,\\\\n    beta_1=0.9,\\\\n    beta_2=0.999,\\\\n    epsilon=1e-07,\\\\n    amsgrad=False,\\\\n    name=\\'Adam\\',\\\\n) #end-adam_1\\\\n\\\\n\"}, \\'loss\\': None, \\'callbacks\\': [], \\'model\\': {\\'id\\': \\'model_2\\', \\'name\\': \\'Model 2\\', \\'type\\': {\\'name\\': \\'Model\\', \\'_class\\': \\'models\\'}, \\'pos\\': {\\'x\\': 723, \\'y\\': 568, \\'offsetX\\': 42, \\'offsetY\\': 20}, \\'connections\\': {\\'inbound\\': [\\'dense_6\\'], \\'outbound\\': [\\'compile_1\\']}, \\'width\\': 84, \\'arguments\\': {}}, \\'compile\\': {\\'id\\': \\'compile_1\\', \\'name\\': \\'Compile 1\\', \\'type\\': {\\'name\\': \\'Compile\\', \\'_class\\': \\'models\\'}, \\'pos\\': {\\'x\\': 757, \\'y\\': 671, \\'offsetX\\': 54, \\'offsetY\\': 20}, \\'connections\\': {\\'inbound\\': [\\'model_1\\', \\'model_2\\'], \\'outbound\\': [\\'train_1\\']}, \\'width\\': 108, \\'arguments\\': {\\'optmizer\\': {\\'value\\': \\'None\\', \\'type\\': \\'str\\', \\'render\\': \\'list\\', \\'options\\': \\'optimizer\\'}, \\'loss\\': {\\'value\\': \\'categorical_crossentropy\\', \\'type\\': \\'str\\', \\'render\\': \\'list\\', \\'options\\': \\'loss\\'}, \\'metrics\\': {\\'value\\': [\\'categorical_accuracy\\'], \\'type\\': \\'str\\', \\'render\\': \\'checkbox\\', \\'options\\': \\'metrics\\'}}}, \\'train\\': {\\'id\\': \\'train_1\\', \\'name\\': \\'Train 1\\', \\'type\\': {\\'name\\': \\'Train\\', \\'_class\\': \\'models\\'}, \\'pos\\': {\\'x\\': 854, \\'y\\': 783, \\'offsetX\\': 42, \\'offsetY\\': 20}, \\'connections\\': {\\'inbound\\': [\\'compile_1\\'], \\'outbound\\': []}, \\'width\\': 84, \\'arguments\\': {\\'batch_size\\': {\\'value\\': \\'32\\', \\'type\\': \\'int\\', \\'render\\': \\'text\\', \\'options\\': \\'batch_size\\'}, \\'epochs\\': {\\'value\\': \\'3\\', \\'type\\': \\'int\\', \\'render\\': \\'text\\', \\'options\\': \\'batch_size\\'}}}}, \\'input_nodes\\': [\\'input_1\\'], \\'levels\\': [{\\'input_1\\'}, {\\'conv2d_1\\'}, {\\'conv2d_2\\'}, {\\'maxpooling2d_1\\'}, {\\'conv2d_3\\'}, {\\'conv2d_4\\'}, {\\'conv2d_5\\'}, {\\'conv2d_6\\'}, {\\'maxpooling2d_2\\'}, {\\'flatten_1\\'}, {\\'dense_1\\'}, {\\'dense_2\\'}, {\\'dense_3\\'}, {\\'dropout_1\\'}, {\\'dense_6\\'}, {\\'model_2\\'}, {\\'compile_1\\'}, {\\'train_1\\'}, set(), set(), set(), set()]}'"
      ]
     },
     "execution_count": 16,
     "metadata": {},
     "output_type": "execute_result"
    }
   ],
   "source": [
    "build_config.__str__()"
   ]
  },
  {
   "cell_type": "code",
   "execution_count": 9,
   "metadata": {},
   "outputs": [],
   "source": [
    "def execute_code(_code:str)->None:\n",
    "    exec(_code)\n",
    "    globals().update(locals())"
   ]
  },
  {
   "cell_type": "code",
   "execution_count": 10,
   "metadata": {},
   "outputs": [],
   "source": [
    "class TfGui(keras.callbacks.Callback):\n",
    "    batch = None \n",
    "    epoch = 0\n",
    "    \n",
    "    batch_size=8\n",
    "    batches = 1\n",
    "    epochs = 1\n",
    "    \n",
    "    trainer = None\n",
    "    \n",
    "    def __repr__(self,):\n",
    "        return f\"\"\"TfGui(\n",
    "    batch={self.batch},\n",
    "    logs={self.logs},\n",
    "    batch_size={self.batch_size},\n",
    "    epochs={self.epochs},\n",
    ")\n",
    "\"\"\"\n",
    "    \n",
    "    @property\n",
    "    def status(self,):\n",
    "        return {\n",
    "            \"epochs\":self.epochs,\n",
    "            \"batchs\":self.batches\n",
    "        }\n",
    "    \n",
    "    def __init__(self,trainer):\n",
    "        self.trainer = trainer\n",
    "    \n",
    "    def on_train_begin(self,epoch,logs=None):\n",
    "        pass\n",
    "    \n",
    "    def on_batch_end(self,batch,logs=None):\n",
    "        self.batch = batch\n",
    "        self._epoch['log'] = {\n",
    "            \"batch\":batch,\n",
    "            \"output\":logs\n",
    "        }\n",
    "        \n",
    "    def on_epoch_begin(self,epoch,logs=None):\n",
    "        self.epoch = epoch\n",
    "        self._epoch = {\n",
    "            \"epoch\":epoch,\n",
    "            \"log\":{\n",
    "                \"batch\":0,\n",
    "                \"output\":None\n",
    "            },\n",
    "            \"train\":{\n",
    "                \"epochs\":self.epochs,\n",
    "                \"batches\":self.batches\n",
    "            }\n",
    "        }\n",
    "        \n",
    "        self.trainer.update_log(\n",
    "            log_type = \"epoch\",\n",
    "            log=self._epoch\n",
    "        )"
   ]
  },
  {
   "cell_type": "code",
   "execution_count": 11,
   "metadata": {},
   "outputs": [],
   "source": [
    "class Trainer(object):\n",
    "    build_config = {}\n",
    "    model = keras.Model\n",
    "    update_id = 0\n",
    "    \n",
    "    logs = []\n",
    "\n",
    "    def __init__(self):\n",
    "        globals()['tfgui'] = TfGui(self,)\n",
    "        self.tfgui = globals()['tfgui']\n",
    "    \n",
    "    def update_log(self,log_type:str,log):\n",
    "        self.logs.append({\n",
    "            \"type\":log_type,\n",
    "            \"data\":log\n",
    "        })\n",
    "        \n",
    "    def start(self,build_config:dict,code:str)->None:\n",
    "        \n",
    "        self.update_log(\"notif\",{\"message\":\"Copiling Code\"})\n",
    "        charset = 'a-zA-Z0-9 .\\(\\)\\{\\{\\[\\] \\n=\\-_\\+,\\'\\\"'\n",
    "        self.update_log(\"notif\",{\"message\":\"Performing imports\"})\n",
    "        imports, = re.findall(\"\"\"#import[a-zA-Z\\n .,_\\-]+#end-import\"\"\",code)\n",
    "        execute_code(imports)\n",
    "        execute_code(build_config['train_config']['dataset']['value'])\n",
    "        \n",
    "        self.update_log(\"notif\",{\"message\":\"Building Model\"})\n",
    "        for level in build_config['levels']:\n",
    "            for layer in level:\n",
    "                _code = re.findall(f\"\"\"{layer} =[{charset}]+#end-{layer}\"\"\",code)\n",
    "                if len(_code):\n",
    "                    execute_code(_code[0])\n",
    "\n",
    "        if build_config['train_config']['optimizer']:\n",
    "            execute_code(build_config['train_config']['optimizer']['value'])\n",
    "\n",
    "        if build_config['train_config']['callbacks']:\n",
    "            for callback in build_config['train_config']['callbacks']:\n",
    "                execute_code(callback['value'])    \n",
    "        \n",
    "        if build_config['train_config']['loss']:\n",
    "            execute_code(build_config['train_config']['loss']['value'])\n",
    "            \n",
    "        self.update_log(\"notif\",{\"message\":\"Compiling Model\"})\n",
    "\n",
    "        comp = build_config['train_config']['compile']['id']\n",
    "        model = build_config['train_config']['model']['id']\n",
    "        execute_code(re.findall(f\"\"\"{model}.compile[{charset}]+#end-{comp}\"\"\",code)[0])\n",
    "        \n",
    "        self.tfgui.epochs = int(build_config['train_config']['train']['arguments']['epochs']['value'])\n",
    "        self.tfgui.batch_size = int(build_config['train_config']['train']['arguments']['batch_size']['value'])\n",
    "        self.tfgui.batches = np.ceil(globals()[build_config['train_config']['dataset']['id']].train_x.__len__() / tfgui.batch_size).astype(int)\n",
    "        \n",
    "        train_code, = re.findall(f\"\"\"{model}.fit\\([a-z\\n\\t =_0-9.,\\[\\]\\)]+#end-train_\\d+\"\"\",code)\n",
    "        train_thread = Thread(target=execute_code,args=(train_code,))\n",
    "        train_thread.start()\n",
    "        self.update_log(\"notif\",{\"message\":\"Training Started\"})\n",
    "    \n",
    "trainer = Trainer()"
   ]
  },
  {
   "cell_type": "code",
   "execution_count": 12,
   "metadata": {
    "scrolled": false
   },
   "outputs": [
    {
     "name": "stdout",
     "output_type": "stream",
     "text": [
      "51/51 [==============================] - 2s 5ms/step - loss: 83.2747\n"
     ]
    }
   ],
   "source": [
    "trainer.start(build_config,code)"
   ]
  },
  {
   "cell_type": "code",
   "execution_count": null,
   "metadata": {
    "scrolled": false
   },
   "outputs": [],
   "source": []
  },
  {
   "cell_type": "code",
   "execution_count": null,
   "metadata": {},
   "outputs": [],
   "source": []
  },
  {
   "cell_type": "code",
   "execution_count": null,
   "metadata": {},
   "outputs": [],
   "source": []
  },
  {
   "cell_type": "code",
   "execution_count": null,
   "metadata": {},
   "outputs": [],
   "source": []
  }
 ],
 "metadata": {
  "kernelspec": {
   "display_name": "Python 3",
   "language": "python",
   "name": "python3"
  },
  "language_info": {
   "codemirror_mode": {
    "name": "ipython",
    "version": 3
   },
   "file_extension": ".py",
   "mimetype": "text/x-python",
   "name": "python",
   "nbconvert_exporter": "python",
   "pygments_lexer": "ipython3",
   "version": "3.8.0"
  }
 },
 "nbformat": 4,
 "nbformat_minor": 4
}
