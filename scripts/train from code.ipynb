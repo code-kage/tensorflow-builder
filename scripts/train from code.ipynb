{
 "cells": [
  {
   "cell_type": "code",
   "execution_count": 1,
   "metadata": {},
   "outputs": [],
   "source": [
    "import re\n",
    "\n",
    "import pandas as pd\n",
    "import numpy as np\n",
    "import tensorflow as tf\n",
    "\n",
    "from tensorflow import keras\n",
    "from tensorflow.keras import layers,optimizers,losses,metrics,callbacks\n",
    "\n",
    "from typing import List\n",
    "from json import load,dump\n",
    "\n",
    "from threading import Thread"
   ]
  },
  {
   "cell_type": "code",
   "execution_count": 2,
   "metadata": {},
   "outputs": [],
   "source": [
    "with open(\"../data/example_train.json\",\"r\") as build_file:\n",
    "    build_config = eval(build_file.read())\n",
    "    \n",
    "with open(\"../data/example_code.py\",\"r\") as code_file:\n",
    "    code = code_file.read()"
   ]
  },
  {
   "cell_type": "code",
   "execution_count": 76,
   "metadata": {},
   "outputs": [],
   "source": [
    "def execute_code(_code:str)->None:\n",
    "    exec(_code)\n",
    "    globals().update(locals())"
   ]
  },
  {
   "cell_type": "code",
   "execution_count": 77,
   "metadata": {},
   "outputs": [],
   "source": [
    "class TfGui(keras.callbacks.Callback):\n",
    "    batch = None \n",
    "    epoch = 0\n",
    "    \n",
    "    batch_size=8\n",
    "    batches = 1\n",
    "    epochs = 1\n",
    "    \n",
    "    trainer = None\n",
    "    \n",
    "    def __repr__(self,):\n",
    "        return f\"\"\"TfGui(\n",
    "    batch={self.batch},\n",
    "    logs={self.logs},\n",
    "    batch_size={self.batch_size},\n",
    "    epochs={self.epochs},\n",
    ")\n",
    "\"\"\"\n",
    "    \n",
    "    @property\n",
    "    def status(self,):\n",
    "        return {\n",
    "            \"epochs\":self.epochs,\n",
    "            \"batchs\":self.batches\n",
    "        }\n",
    "    \n",
    "    def __init__(self,trainer):\n",
    "        self.trainer = trainer\n",
    "    \n",
    "    def on_train_begin(self,epoch,logs=None):\n",
    "        pass\n",
    "    \n",
    "    def on_batch_end(self,batch,logs=None):\n",
    "        self.batch = batch\n",
    "        self._epoch['log'] = {\n",
    "            \"batch\":batch,\n",
    "            \"output\":logs\n",
    "        }\n",
    "        \n",
    "    def on_epoch_begin(self,epoch,logs=None):\n",
    "        self.epoch = epoch\n",
    "        self._epoch = {\n",
    "            \"epoch\":epoch,\n",
    "            \"log\":{\n",
    "                \"batch\":0,\n",
    "                \"output\":None\n",
    "            },\n",
    "            \"train\":{\n",
    "                \"epochs\":self.epochs,\n",
    "                \"batches\":self.batches\n",
    "            }\n",
    "        }\n",
    "        \n",
    "        self.trainer.update_log(\n",
    "            log_type = \"epoch\",\n",
    "            log=self._epoch\n",
    "        )"
   ]
  },
  {
   "cell_type": "code",
   "execution_count": 78,
   "metadata": {},
   "outputs": [],
   "source": [
    "class Trainer(object):\n",
    "    build_config = {}\n",
    "    model = keras.Model\n",
    "    update_id = 0\n",
    "    \n",
    "    logs = []\n",
    "\n",
    "    def __init__(self):\n",
    "        globals()['tfgui'] = TfGui(self,)\n",
    "        self.tfgui = globals()['tfgui']\n",
    "    \n",
    "    def update_log(self,log_type:str,log):\n",
    "        self.logs.append({\n",
    "            \"type\":log_type,\n",
    "            \"data\":log\n",
    "        })\n",
    "        \n",
    "    def start(self,build_config:dict,code:str)->None:\n",
    "        \n",
    "        self.update_log(\"notif\",{\"message\":\"Copiling Code\"})\n",
    "        charset = 'a-zA-Z0-9 .\\(\\)\\{\\{\\[\\] \\n=\\-_\\+,\\'\\\"'\n",
    "        self.update_log(\"notif\",{\"message\":\"Performing imports\"})\n",
    "        imports, = re.findall(\"\"\"#import[a-zA-Z\\n .,_\\-]+#end-import\"\"\",code)\n",
    "        execute_code(imports)\n",
    "        execute_code(build_config['train_config']['dataset']['value'])\n",
    "        \n",
    "        self.update_log(\"notif\",{\"message\":\"Building Model\"})\n",
    "        for level in build_config['levels']:\n",
    "            for layer in level:\n",
    "                _code = re.findall(f\"\"\"{layer} =[{charset}]+#end-{layer}\"\"\",code)\n",
    "                if len(_code):\n",
    "                    execute_code(_code[0])\n",
    "\n",
    "        if build_config['train_config']['optimizer']:\n",
    "            execute_code(build_config['train_config']['optimizer']['value'])\n",
    "\n",
    "        if build_config['train_config']['callbacks']:\n",
    "            for callback in build_config['train_config']['callbacks']:\n",
    "                execute_code(callback['value'])    \n",
    "        \n",
    "        if build_config['train_config']['loss']:\n",
    "            execute_code(build_config['train_config']['loss']['value'])\n",
    "            \n",
    "        self.update_log(\"notif\",{\"message\":\"Compiling Model\"})\n",
    "\n",
    "        comp = build_config['train_config']['compile']['id']\n",
    "        model = build_config['train_config']['model']['id']\n",
    "        execute_code(re.findall(f\"\"\"{model}.compile[{charset}]+#end-{comp}\"\"\",code)[0])\n",
    "        \n",
    "        self.tfgui.epochs = int(build_config['train_config']['train']['arguments']['epochs']['value'])\n",
    "        self.tfgui.batch_size = int(build_config['train_config']['train']['arguments']['batch_size']['value'])\n",
    "        self.tfgui.batches = np.ceil(globals()[build_config['train_config']['dataset']['id']].train_x.__len__() / tfgui.batch_size).astype(int)\n",
    "        \n",
    "        train_code, = re.findall(f\"\"\"{model}.fit\\([a-z\\n\\t =_0-9.,\\[\\]\\)]+#end-train_\\d+\"\"\",code)\n",
    "        train_thread = Thread(target=execute_code,args=(train_code,))\n",
    "        train_thread.start()\n",
    "        self.update_log(\"notif\",{\"message\":\"Training Started\"})\n",
    "    \n",
    "trainer = Trainer()"
   ]
  },
  {
   "cell_type": "code",
   "execution_count": 79,
   "metadata": {
    "scrolled": false
   },
   "outputs": [
    {
     "ename": "ValueError",
     "evalue": "Please provide to Input either a `shape` or a `tensor` argument. Note that `shape` does not include the batch dimension.",
     "output_type": "error",
     "traceback": [
      "\u001b[1;31m---------------------------------------------------------------------------\u001b[0m",
      "\u001b[1;31mValueError\u001b[0m                                Traceback (most recent call last)",
      "\u001b[1;32m<ipython-input-79-2e1dfaa3b0bc>\u001b[0m in \u001b[0;36m<module>\u001b[1;34m\u001b[0m\n\u001b[1;32m----> 1\u001b[1;33m \u001b[0mtrainer\u001b[0m\u001b[1;33m.\u001b[0m\u001b[0mstart\u001b[0m\u001b[1;33m(\u001b[0m\u001b[0mbuild_config\u001b[0m\u001b[1;33m,\u001b[0m\u001b[0mcode\u001b[0m\u001b[1;33m)\u001b[0m\u001b[1;33m\u001b[0m\u001b[1;33m\u001b[0m\u001b[0m\n\u001b[0m",
      "\u001b[1;32m<ipython-input-78-2fe0d0db4832>\u001b[0m in \u001b[0;36mstart\u001b[1;34m(self, build_config, code)\u001b[0m\n\u001b[0;32m     30\u001b[0m                 \u001b[0m_code\u001b[0m \u001b[1;33m=\u001b[0m \u001b[0mre\u001b[0m\u001b[1;33m.\u001b[0m\u001b[0mfindall\u001b[0m\u001b[1;33m(\u001b[0m\u001b[1;34mf\"\"\"{layer} =[{charset}]+#end-{layer}\"\"\"\u001b[0m\u001b[1;33m,\u001b[0m\u001b[0mcode\u001b[0m\u001b[1;33m)\u001b[0m\u001b[1;33m\u001b[0m\u001b[1;33m\u001b[0m\u001b[0m\n\u001b[0;32m     31\u001b[0m                 \u001b[1;32mif\u001b[0m \u001b[0mlen\u001b[0m\u001b[1;33m(\u001b[0m\u001b[0m_code\u001b[0m\u001b[1;33m)\u001b[0m\u001b[1;33m:\u001b[0m\u001b[1;33m\u001b[0m\u001b[1;33m\u001b[0m\u001b[0m\n\u001b[1;32m---> 32\u001b[1;33m                     \u001b[0mexecute_code\u001b[0m\u001b[1;33m(\u001b[0m\u001b[0m_code\u001b[0m\u001b[1;33m[\u001b[0m\u001b[1;36m0\u001b[0m\u001b[1;33m]\u001b[0m\u001b[1;33m)\u001b[0m\u001b[1;33m\u001b[0m\u001b[1;33m\u001b[0m\u001b[0m\n\u001b[0m\u001b[0;32m     33\u001b[0m \u001b[1;33m\u001b[0m\u001b[0m\n\u001b[0;32m     34\u001b[0m         \u001b[1;32mif\u001b[0m \u001b[0mbuild_config\u001b[0m\u001b[1;33m[\u001b[0m\u001b[1;34m'train_config'\u001b[0m\u001b[1;33m]\u001b[0m\u001b[1;33m[\u001b[0m\u001b[1;34m'optimizer'\u001b[0m\u001b[1;33m]\u001b[0m\u001b[1;33m:\u001b[0m\u001b[1;33m\u001b[0m\u001b[1;33m\u001b[0m\u001b[0m\n",
      "\u001b[1;32m<ipython-input-76-d002b39df316>\u001b[0m in \u001b[0;36mexecute_code\u001b[1;34m(_code)\u001b[0m\n\u001b[0;32m      1\u001b[0m \u001b[1;32mdef\u001b[0m \u001b[0mexecute_code\u001b[0m\u001b[1;33m(\u001b[0m\u001b[0m_code\u001b[0m\u001b[1;33m:\u001b[0m\u001b[0mstr\u001b[0m\u001b[1;33m)\u001b[0m\u001b[1;33m->\u001b[0m\u001b[1;32mNone\u001b[0m\u001b[1;33m:\u001b[0m\u001b[1;33m\u001b[0m\u001b[1;33m\u001b[0m\u001b[0m\n\u001b[1;32m----> 2\u001b[1;33m     \u001b[0mexec\u001b[0m\u001b[1;33m(\u001b[0m\u001b[0m_code\u001b[0m\u001b[1;33m)\u001b[0m\u001b[1;33m\u001b[0m\u001b[1;33m\u001b[0m\u001b[0m\n\u001b[0m\u001b[0;32m      3\u001b[0m     \u001b[0mglobals\u001b[0m\u001b[1;33m(\u001b[0m\u001b[1;33m)\u001b[0m\u001b[1;33m.\u001b[0m\u001b[0mupdate\u001b[0m\u001b[1;33m(\u001b[0m\u001b[0mlocals\u001b[0m\u001b[1;33m(\u001b[0m\u001b[1;33m)\u001b[0m\u001b[1;33m)\u001b[0m\u001b[1;33m\u001b[0m\u001b[1;33m\u001b[0m\u001b[0m\n",
      "\u001b[1;32m<string>\u001b[0m in \u001b[0;36m<module>\u001b[1;34m\u001b[0m\n",
      "\u001b[1;32mc:\\py38\\lib\\site-packages\\tensorflow\\python\\keras\\engine\\input_layer.py\u001b[0m in \u001b[0;36mInput\u001b[1;34m(shape, batch_size, name, dtype, sparse, tensor, ragged, **kwargs)\u001b[0m\n\u001b[0;32m    294\u001b[0m                      'to Input, not both at the same time.')\n\u001b[0;32m    295\u001b[0m   \u001b[1;32mif\u001b[0m \u001b[0mbatch_input_shape\u001b[0m \u001b[1;32mis\u001b[0m \u001b[1;32mNone\u001b[0m \u001b[1;32mand\u001b[0m \u001b[0mshape\u001b[0m \u001b[1;32mis\u001b[0m \u001b[1;32mNone\u001b[0m \u001b[1;32mand\u001b[0m \u001b[0mtensor\u001b[0m \u001b[1;32mis\u001b[0m \u001b[1;32mNone\u001b[0m\u001b[1;33m:\u001b[0m\u001b[1;33m\u001b[0m\u001b[1;33m\u001b[0m\u001b[0m\n\u001b[1;32m--> 296\u001b[1;33m     raise ValueError('Please provide to Input either a `shape`'\n\u001b[0m\u001b[0;32m    297\u001b[0m                      \u001b[1;34m' or a `tensor` argument. Note that '\u001b[0m\u001b[1;33m\u001b[0m\u001b[1;33m\u001b[0m\u001b[0m\n\u001b[0;32m    298\u001b[0m                      \u001b[1;34m'`shape` does not include the batch '\u001b[0m\u001b[1;33m\u001b[0m\u001b[1;33m\u001b[0m\u001b[0m\n",
      "\u001b[1;31mValueError\u001b[0m: Please provide to Input either a `shape` or a `tensor` argument. Note that `shape` does not include the batch dimension."
     ]
    }
   ],
   "source": [
    "trainer.start(build_config,code)"
   ]
  },
  {
   "cell_type": "code",
   "execution_count": null,
   "metadata": {
    "scrolled": false
   },
   "outputs": [],
   "source": []
  },
  {
   "cell_type": "code",
   "execution_count": null,
   "metadata": {},
   "outputs": [],
   "source": []
  },
  {
   "cell_type": "code",
   "execution_count": null,
   "metadata": {},
   "outputs": [],
   "source": []
  }
 ],
 "metadata": {
  "kernelspec": {
   "display_name": "Python 3",
   "language": "python",
   "name": "python3"
  },
  "language_info": {
   "codemirror_mode": {
    "name": "ipython",
    "version": 3
   },
   "file_extension": ".py",
   "mimetype": "text/x-python",
   "name": "python",
   "nbconvert_exporter": "python",
   "pygments_lexer": "ipython3",
   "version": "3.8.0"
  }
 },
 "nbformat": 4,
 "nbformat_minor": 4
}
