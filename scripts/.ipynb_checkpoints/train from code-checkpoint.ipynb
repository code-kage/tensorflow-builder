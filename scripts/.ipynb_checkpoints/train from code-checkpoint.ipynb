{
 "cells": [
  {
   "cell_type": "code",
   "execution_count": 66,
   "metadata": {},
   "outputs": [],
   "source": [
    "import re\n",
    "\n",
    "import pandas as pd\n",
    "import numpy as np\n",
    "import tensorflow as tf\n",
    "\n",
    "from tensorflow import keras\n",
    "from tensorflow.keras import layers,optimizers,losses,metrics,callbacks\n",
    "\n",
    "from typing import List\n",
    "from json import load,dump\n",
    "\n",
    "from threading import Thread"
   ]
  },
  {
   "cell_type": "code",
   "execution_count": 67,
   "metadata": {},
   "outputs": [],
   "source": [
    "with open(\"../data/example_train.json\",\"r\") as build_file:\n",
    "    build_config = eval(build_file.read())\n",
    "    \n",
    "with open(\"../data/example_code.py\",\"r\") as code_file:\n",
    "    code = code_file.read()"
   ]
  },
  {
   "cell_type": "code",
   "execution_count": 68,
   "metadata": {},
   "outputs": [],
   "source": [
    "def execute_code(_code:str)->None:\n",
    "    exec(_code)\n",
    "    globals().update(locals())"
   ]
  },
  {
   "cell_type": "code",
   "execution_count": 69,
   "metadata": {},
   "outputs": [],
   "source": [
    "class TfGui(keras.callbacks.Callback):\n",
    "    batch = None \n",
    "    epoch = 0\n",
    "    \n",
    "    batch_size=8\n",
    "    batches = 1\n",
    "    epochs = 1\n",
    "    \n",
    "    trainer = None\n",
    "    \n",
    "    def __repr__(self,):\n",
    "        return f\"\"\"TfGui(\n",
    "    batch={self.batch},\n",
    "    logs={self.logs},\n",
    "    batch_size={self.batch_size},\n",
    "    epochs={self.epochs},\n",
    ")\n",
    "\"\"\"\n",
    "    \n",
    "    @property\n",
    "    def status(self,):\n",
    "        return {\n",
    "            \"epochs\":self.epochs,\n",
    "            \"batchs\":self.batches\n",
    "        }\n",
    "    \n",
    "    def __init__(self,trainer):\n",
    "        self.trainer = trainer\n",
    "    \n",
    "    def on_train_begin(self,epoch,logs=None):\n",
    "        pass\n",
    "    \n",
    "    def on_batch_end(self,batch,logs=None):\n",
    "        self.batch = batch\n",
    "        self._epoch['log'] = {\n",
    "            \"batch\":batch,\n",
    "            \"output\":logs\n",
    "        }\n",
    "        \n",
    "    def on_epoch_begin(self,epoch,logs=None):\n",
    "        self.epoch = epoch\n",
    "        self._epoch = {\n",
    "            \"epoch\":epoch,\n",
    "            \"log\":{\n",
    "                \"batch\":0,\n",
    "                \"output\":None\n",
    "            },\n",
    "            \"train\":{\n",
    "                \"epochs\":self.epochs,\n",
    "                \"batches\":self.batches\n",
    "            }\n",
    "        }\n",
    "        \n",
    "        self.trainer.update_log(\n",
    "            log_type = \"epoch\",\n",
    "            log=self._epoch\n",
    "        )"
   ]
  },
  {
   "cell_type": "code",
   "execution_count": 72,
   "metadata": {},
   "outputs": [],
   "source": [
    "class Trainer(object):\n",
    "    build_config = {}\n",
    "    model = keras.Model\n",
    "    update_id = 0\n",
    "    \n",
    "    logs = []\n",
    "\n",
    "    def __init__(self):\n",
    "        globals()['tfgui'] = TfGui(self,)\n",
    "        self.tfgui = globals()['tfgui']\n",
    "    \n",
    "    def update_log(self,log_type:str,log):\n",
    "        self.logs.append({\n",
    "            \"type\":log_type,\n",
    "            \"data\":log\n",
    "        })\n",
    "        \n",
    "    def start(self,build_config:dict,code:str)->None:\n",
    "        \n",
    "        self.update_log(\"notif\",{\"message\":\"Copiling Code\"})\n",
    "        charset = 'a-zA-Z0-9 .\\(\\)\\{\\{\\[\\] \\n=\\-_\\+,\\'\\\"'\n",
    "        self.update_log(\"notif\",{\"message\":\"Performing imports\"})\n",
    "        imports, = re.findall(\"\"\"#import[a-zA-Z\\n .,_\\-]+#end-import\"\"\",code)\n",
    "        execute_code(imports)\n",
    "        execute_code(build_config['train_config']['dataset']['value'])\n",
    "        \n",
    "        self.update_log(\"notif\",{\"message\":\"Building Model\"})\n",
    "        for level in build_config['levels']:\n",
    "            for layer in level:\n",
    "                _code = re.findall(f\"\"\"{layer} =[{charset}]+#end-{layer}\"\"\",code)\n",
    "                if len(_code):\n",
    "                    execute_code(_code[0])\n",
    "\n",
    "        if build_config['train_config']['optimizer']:\n",
    "            execute_code(build_config['train_config']['optimizer']['value'])\n",
    "\n",
    "        if build_config['train_config']['callbacks']:\n",
    "            for callback in build_config['train_config']['callbacks']:\n",
    "                execute_code(callback['value'])    \n",
    "        \n",
    "        if build_config['train_config']['loss']:\n",
    "            execute_code(build_config['train_config']['loss']['value'])\n",
    "            \n",
    "        self.update_log(\"notif\",{\"message\":\"Compiling Model\"})\n",
    "\n",
    "        comp = build_config['train_config']['compile']['id']\n",
    "        model = build_config['train_config']['model']['id']\n",
    "        execute_code(re.findall(f\"\"\"{model}.compile[{charset}]+#end-{comp}\"\"\",code)[0])\n",
    "        \n",
    "        self.tfgui.epochs = int(build_config['train_config']['train']['arguments']['epochs']['value'])\n",
    "        self.tfgui.batch_size = int(build_config['train_config']['train']['arguments']['batch_size']['value'])\n",
    "        self.tfgui.batches = np.ceil(globals()[build_config['train_config']['dataset']['id']].train_x.__len__() / tfgui.batch_size).astype(int)\n",
    "        \n",
    "        train_code, = re.findall(f\"\"\"{model}.fit\\([a-z\\n\\t =_0-9.,\\[\\]\\)]+#end-train_\\d+\"\"\",code)\n",
    "        train_thread = Thread(target=execute_code,args=(train_code,))\n",
    "        train_thread.start()\n",
    "        self.update_log(\"notif\",{\"message\":\"Training Started\"})\n",
    "    \n",
    "trainer = Trainer()"
   ]
  },
  {
   "cell_type": "code",
   "execution_count": 73,
   "metadata": {
    "scrolled": false
   },
   "outputs": [
    {
     "name": "stdout",
     "output_type": "stream",
     "text": [
      "Epoch 1/3\n",
      "1875/1875 [==============================] - 6s 3ms/step - loss: 0.5936\n",
      "Epoch 2/3\n",
      "1875/1875 [==============================] - ETA: 0s - loss: 0.201 - 5s 2ms/step - loss: 0.2016\n",
      "Epoch 3/3\n",
      "1875/1875 [==============================] - 5s 2ms/step - loss: 0.1579\n"
     ]
    }
   ],
   "source": [
    "trainer.start(build_config,code)"
   ]
  },
  {
   "cell_type": "code",
   "execution_count": null,
   "metadata": {
    "scrolled": false
   },
   "outputs": [],
   "source": []
  },
  {
   "cell_type": "code",
   "execution_count": null,
   "metadata": {},
   "outputs": [],
   "source": []
  },
  {
   "cell_type": "code",
   "execution_count": null,
   "metadata": {},
   "outputs": [],
   "source": []
  }
 ],
 "metadata": {
  "kernelspec": {
   "display_name": "Python 3",
   "language": "python",
   "name": "python3"
  },
  "language_info": {
   "codemirror_mode": {
    "name": "ipython",
    "version": 3
   },
   "file_extension": ".py",
   "mimetype": "text/x-python",
   "name": "python",
   "nbconvert_exporter": "python",
   "pygments_lexer": "ipython3",
   "version": "3.8.0"
  }
 },
 "nbformat": 4,
 "nbformat_minor": 4
}
