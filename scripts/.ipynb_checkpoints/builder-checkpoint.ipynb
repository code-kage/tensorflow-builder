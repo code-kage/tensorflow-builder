{
 "cells": [
  {
   "cell_type": "code",
   "execution_count": 1,
   "metadata": {},
   "outputs": [],
   "source": [
    "from json import load"
   ]
  },
  {
   "cell_type": "code",
   "execution_count": 5,
   "metadata": {},
   "outputs": [],
   "source": [
    "with open(\"../data/example_build.json\",\"r\") as build_file:\n",
    "    build_config = load(build_file)\n",
    "    \n",
    "with open(\"../data/layer_config.json\",\"r\") as config_file:\n",
    "    layer_config = load(config_file)"
   ]
  },
  {
   "cell_type": "code",
   "execution_count": 6,
   "metadata": {},
   "outputs": [
    {
     "data": {
      "text/plain": [
       "[['input_1'], ['dense_1'], ['model_1']]"
      ]
     },
     "execution_count": 6,
     "metadata": {},
     "output_type": "execute_result"
    }
   ],
   "source": [
    "inputs = []\n",
    "\n",
    "for _id,config in build_config.items():\n",
    "    if config['type'] == 'Input':\n",
    "        inputs.append(_id)\n",
    "        \n",
    "build_config['input_nodes'] = inputs\n",
    "\n",
    "levels = [ set() for i in range(len(build_config))]\n",
    "def setLevel(node,config,di=0):\n",
    "    levels[di].add(node)\n",
    "    if build_config[node]['connections']['outbound']:\n",
    "        for next_node in build_config[node]['connections']['outbound']: \n",
    "            setLevel(next_node,build_config,di+1)\n",
    "\n",
    "\n",
    "for inp in inputs:\n",
    "    setLevel(inp,build_config,0)\n",
    "    \n",
    "build_config['levels'] = levels\n",
    "    \n",
    "levels = [list(level) for level in levels if len(level)]\n",
    "levels"
   ]
  },
  {
   "cell_type": "code",
   "execution_count": 13,
   "metadata": {},
   "outputs": [
    {
     "name": "stdout",
     "output_type": "stream",
     "text": [
      "#[layers]\n",
      "input_1 = layers.Input(\n",
      "    shape=(32, ),\n",
      "    batch_size=None,\n",
      "    name=None,\n",
      "    dtype=None,\n",
      "    sparse=False,\n",
      "    tensor=None,\n",
      "    ragged=False,\n",
      ")\n",
      "\n",
      "dense_1 = layers.Dense(\n",
      "    units=32,\n",
      "    activation='softmax',\n",
      "    use_bias=True,\n",
      "    kernel_initializer='glorot_uniform',\n",
      "    bias_initializer='zeros',\n",
      ")(input_1)\n",
      "\n",
      "#[model]\n",
      "model_1 = keras.Model(\n",
      "    [ input_1, ],\n",
      "    [ dense_1, ]\n",
      ")\n",
      "\n"
     ]
    }
   ],
   "source": [
    "def build_inbound(inbound:list)->str:\n",
    "    return ( \"([\" + \", \".join(inbound) + \"])\" if len(inbound) > 1 else \"(\" + inbound[0] + \")\" ) if len(inbound) else \"\"\n",
    "\n",
    "def set_argument(argument,config):\n",
    "    value = config['value']\n",
    "    value = ( None if value == 'None' else f\"'{value}'\" ) if config['type'] == 'text' else value\n",
    "    return f\"    {argument}={value},\"\n",
    "    \n",
    "def build_arguments(arguments:dict)->str:\n",
    "    arguments = '\\n'.join([ set_argument(arg,cnf) for arg,cnf in arguments.items() ])\n",
    "    return arguments\n",
    "\n",
    "def build_input(layer,build_config,*args,**kwargs)->str:\n",
    "    arguments =  build_arguments(layer['arguments'])\n",
    "    return f\"\"\"{layer['id']} = layers.Input(\n",
    "{arguments}\n",
    ")\n",
    "\"\"\"\n",
    "\n",
    "def build_dense(layer,build_config,*args,**kwargs)->str:\n",
    "    arguments =  build_arguments(layer['arguments'])\n",
    "    inbound = build_inbound(layer['connections']['inbound'])\n",
    "    \n",
    "    return f\"\"\"{layer['id']} = layers.{layer['type']}(\n",
    "{arguments}\n",
    "){inbound}\n",
    "\"\"\"\n",
    "\n",
    "def build_conv2d(layer,build_config,*args,**kwargs)->str:\n",
    "    arguments =  build_arguments(layer['arguments'])\n",
    "    inbound = build_inbound(layer['connections']['inbound'])\n",
    "    \n",
    "    return f\"\"\"{layer['id']} = layers.{layer['type']}(\n",
    "{arguments}\n",
    "){inbound}\n",
    "\"\"\"\n",
    "\n",
    "def build_globalaverage2d(layer,build_config,*args,**kwargs)->str:\n",
    "    inbound = layer['connections']['inbound']\n",
    "    inbound = build_inbound(layer['connections']['inbound'])\n",
    "    \n",
    "    return f\"\"\"{layer['id']} = layers.{layer['type']}(){inbound}\n",
    "\"\"\"\n",
    "\n",
    "def build_model(layer,build_config,*args,**kwargs)->str:\n",
    "    return f\"\"\"#[model]\n",
    "{layer['id']} = keras.Model(\n",
    "    [ {', '.join(build_config['input_nodes'])}, ],\n",
    "    [ {', '.join(layer['connections']['inbound'])}, ]\n",
    ")\"\"\"\n",
    "\n",
    "def build_compile(layer,build_config,*args,**kwargs)->str:\n",
    "    model, = layer['connections']['inbound']\n",
    "    return f\"\"\"#[compile]\n",
    "{model}.compile(\n",
    "    optimizer='{layer['arguments']['optmizer']['value']}',\n",
    "    loss='{layer['arguments']['loss']['value']}'\n",
    ")\"\"\"\n",
    "\n",
    "def build_train(layer,build_config,*args,**kwargs)->str:\n",
    "    return \"\"\n",
    "\n",
    "build_functions = {\n",
    "    \"Input\":build_input,\n",
    "    \"Conv2D\":build_conv2d,\n",
    "    \"GlobalAveragePooling2D\":build_globalaverage2d,\n",
    "    \"Dense\":build_dense,\n",
    "    \"Model\":build_model,\n",
    "    \"Compile\":build_compile,\n",
    "    \"Train\":build_train\n",
    "}\n",
    "\n",
    "build = \"#[layers]\\n\"\n",
    "\n",
    "for level in levels:\n",
    "    for layer in level:\n",
    "        layer = build_config[layer]\n",
    "        build += build_functions[layer['type']](layer,build_config) + '\\n'\n",
    "\n",
    "print (build)"
   ]
  },
  {
   "cell_type": "code",
   "execution_count": null,
   "metadata": {},
   "outputs": [],
   "source": []
  },
  {
   "cell_type": "code",
   "execution_count": null,
   "metadata": {},
   "outputs": [],
   "source": []
  },
  {
   "cell_type": "code",
   "execution_count": null,
   "metadata": {},
   "outputs": [],
   "source": []
  },
  {
   "cell_type": "code",
   "execution_count": null,
   "metadata": {},
   "outputs": [],
   "source": []
  },
  {
   "cell_type": "code",
   "execution_count": null,
   "metadata": {},
   "outputs": [],
   "source": [
    "\n"
   ]
  }
 ],
 "metadata": {
  "kernelspec": {
   "display_name": "Python 3",
   "language": "python",
   "name": "python3"
  },
  "language_info": {
   "codemirror_mode": {
    "name": "ipython",
    "version": 3
   },
   "file_extension": ".py",
   "mimetype": "text/x-python",
   "name": "python",
   "nbconvert_exporter": "python",
   "pygments_lexer": "ipython3",
   "version": "3.8.0"
  }
 },
 "nbformat": 4,
 "nbformat_minor": 4
}
