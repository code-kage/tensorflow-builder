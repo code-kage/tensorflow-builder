{
 "cells": [
  {
   "cell_type": "code",
   "execution_count": 19,
   "metadata": {},
   "outputs": [],
   "source": [
    "import tensorflow as tf\n",
    "\n",
    "from tensorflow import keras\n",
    "from tensorflow.keras import layers,optimizers,losses,metrics,models\n",
    "\n",
    "from json import load"
   ]
  },
  {
   "cell_type": "code",
   "execution_count": 20,
   "metadata": {},
   "outputs": [],
   "source": [
    "with open(\"../data/example_build.json\",\"r\") as build_file:\n",
    "    build_config = load(build_file)\n",
    "    \n",
    "with open(\"../data/layer_config.json\",\"r\") as config_file:\n",
    "    layer_config = load(config_file)"
   ]
  },
  {
   "cell_type": "code",
   "execution_count": 21,
   "metadata": {},
   "outputs": [],
   "source": [
    "layers = {}\n",
    "\n",
    "for l in layer_config.values():\n",
    "    layers.update({ dl['name']:dl for dl in l['layers'] })"
   ]
  },
  {
   "cell_type": "code",
   "execution_count": 22,
   "metadata": {},
   "outputs": [],
   "source": [
    "inputs = []\n",
    "\n",
    "for _id,config in build_config.items():\n",
    "    if config['name'] == 'Input':\n",
    "        inputs.append(_id)"
   ]
  },
  {
   "cell_type": "code",
   "execution_count": 23,
   "metadata": {},
   "outputs": [
    {
     "name": "stdout",
     "output_type": "stream",
     "text": [
      "0 layer_0 Input\n",
      "1 layer_1 Conv2D\n",
      "2 layer_2 Conv2D\n",
      "3 layer_4 Conv2D\n",
      "4 layer_5 Model\n",
      "5 layer_6 Compile\n",
      "6 layer_7 Train\n",
      "2 layer_3 Conv2D\n",
      "3 layer_4 Conv2D\n",
      "4 layer_5 Model\n",
      "5 layer_6 Compile\n",
      "6 layer_7 Train\n",
      "2 layer_18 Conv2D\n",
      "3 layer_4 Conv2D\n",
      "4 layer_5 Model\n",
      "5 layer_6 Compile\n",
      "6 layer_7 Train\n",
      "2 layer_19 Conv2D\n",
      "3 layer_4 Conv2D\n",
      "4 layer_5 Model\n",
      "5 layer_6 Compile\n",
      "6 layer_7 Train\n"
     ]
    }
   ],
   "source": [
    "levels = [ set() for i in range(len(build_config))]\n",
    "\n",
    "def h(node,config,di=0):\n",
    "    print (di,node,build_config[node]['name'])\n",
    "    levels[di].add(node)\n",
    "    if build_config[node]['connections']['outbound']:\n",
    "        for next_node in build_config[node]['connections']['outbound']: \n",
    "            h(next_node,build_config,di+1)\n",
    "    \n",
    "h(inputs[0],build_config,0)"
   ]
  },
  {
   "cell_type": "code",
   "execution_count": 27,
   "metadata": {},
   "outputs": [
    {
     "data": {
      "text/plain": [
       "[['layer_0'],\n",
       " ['layer_1'],\n",
       " ['layer_18', 'layer_2', 'layer_19', 'layer_3'],\n",
       " ['layer_4'],\n",
       " ['layer_5'],\n",
       " ['layer_6'],\n",
       " ['layer_7']]"
      ]
     },
     "execution_count": 27,
     "metadata": {},
     "output_type": "execute_result"
    }
   ],
   "source": [
    "levels = [list(level) for level in levels if len(level)]\n",
    "levels"
   ]
  },
  {
   "cell_type": "code",
   "execution_count": 34,
   "metadata": {},
   "outputs": [
    {
     "name": "stdout",
     "output_type": "stream",
     "text": [
      "Input\n",
      "Conv2D\n",
      "Conv2D\n",
      "Conv2D\n",
      "Conv2D\n",
      "Model\n",
      "Compile\n",
      "Train\n",
      "Conv2D\n",
      "Conv2D\n",
      "Conv2D\n"
     ]
    }
   ],
   "source": [
    "model_config = None\n",
    "compile_config = None\n",
    "train_config = None\n",
    "\n",
    "for layer in build_config:\n",
    "    print (build_config[layer]['name'])"
   ]
  },
  {
   "cell_type": "code",
   "execution_count": null,
   "metadata": {},
   "outputs": [],
   "source": []
  },
  {
   "cell_type": "code",
   "execution_count": null,
   "metadata": {},
   "outputs": [],
   "source": []
  },
  {
   "cell_type": "code",
   "execution_count": 13,
   "metadata": {},
   "outputs": [],
   "source": [
    "# def create_layer(layer_id,layer_config):\n",
    "#     arguments = \",\\n\".join([ \n",
    "#         f'\\t{arg}={val}' for arg,val in layer_config['arguments'].items()  \n",
    "#     ])\n",
    "    \n",
    "#     input_layers = layer_config['connections']['inbound']\n",
    "#     input_layers = '[' + ', '.join(input_layers) + ']' if len(input_layers) > 1 else ( input_layers[0] if len(input_layers) else None )\n",
    "    \n",
    "#     return f\"\"\"{layer} = layer.{layer_config['name']}(\n",
    "#     {arguments}\n",
    "#     ){ '(' + input_layers + ')' if input_layers else ''}\\n\\n\"\"\"\n",
    "\n",
    "# build = \"\"\n",
    "\n",
    "# for level in levels:\n",
    "#     for layer in level:\n",
    "#         build += create_layer(layer,build_config[layer])"
   ]
  },
  {
   "cell_type": "code",
   "execution_count": 14,
   "metadata": {},
   "outputs": [],
   "source": [
    "# model = f\"keras.Model([{ ', '.join(inputs) },], [{ ', '.join(levels[-1]) },])\""
   ]
  },
  {
   "cell_type": "code",
   "execution_count": 15,
   "metadata": {},
   "outputs": [],
   "source": [
    "# code = \"\"\"\n",
    "# import tensorflow as tf\n",
    "\n",
    "# from tensorflow import keras\n",
    "# from tensorflow.keras import layers,optimizers,losses,metrics,models\n",
    "\n",
    "# {build}\n",
    "\n",
    "# {model}\n",
    "# \"\"\""
   ]
  },
  {
   "cell_type": "code",
   "execution_count": 17,
   "metadata": {},
   "outputs": [],
   "source": [
    "# print (code.format(build=build,model=model))"
   ]
  },
  {
   "cell_type": "code",
   "execution_count": null,
   "metadata": {},
   "outputs": [],
   "source": []
  },
  {
   "cell_type": "code",
   "execution_count": null,
   "metadata": {},
   "outputs": [],
   "source": []
  },
  {
   "cell_type": "code",
   "execution_count": null,
   "metadata": {},
   "outputs": [],
   "source": []
  }
 ],
 "metadata": {
  "kernelspec": {
   "display_name": "Python 3",
   "language": "python",
   "name": "python3"
  },
  "language_info": {
   "codemirror_mode": {
    "name": "ipython",
    "version": 3
   },
   "file_extension": ".py",
   "mimetype": "text/x-python",
   "name": "python",
   "nbconvert_exporter": "python",
   "pygments_lexer": "ipython3",
   "version": "3.8.0"
  }
 },
 "nbformat": 4,
 "nbformat_minor": 4
}
