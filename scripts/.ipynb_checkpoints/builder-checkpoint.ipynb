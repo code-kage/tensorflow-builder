{
 "cells": [
  {
   "cell_type": "code",
   "execution_count": 162,
   "metadata": {},
   "outputs": [],
   "source": [
    "import tensorflow as tf\n",
    "\n",
    "from tensorflow import keras\n",
    "from tensorflow.keras import layers,optimizers,losses,metrics,models\n",
    "\n",
    "from json import load"
   ]
  },
  {
   "cell_type": "code",
   "execution_count": 164,
   "metadata": {},
   "outputs": [],
   "source": [
    "with open(\"../data/example_build.json\",\"r\") as build_file:\n",
    "    build_config = load(build_file)\n",
    "    \n",
    "with open(\"../data/layer_config.json\",\"r\") as config_file:\n",
    "    layer_config = load(config_file)"
   ]
  },
  {
   "cell_type": "code",
   "execution_count": 172,
   "metadata": {},
   "outputs": [],
   "source": [
    "layers = {}\n",
    "\n",
    "for l in layer_config.values():\n",
    "    layers.update({ dl['name']:dl for dl in l['layers'] })"
   ]
  },
  {
   "cell_type": "code",
   "execution_count": 176,
   "metadata": {},
   "outputs": [
    {
     "data": {
      "text/plain": [
       "{'id': 'layer_1',\n",
       " 'name': 'Dense',\n",
       " 'pos': {'x': 661, 'y': 266},\n",
       " 'connections': {'inbound': ['layer_5'], 'outbound': ['layer_3']},\n",
       " 'arguments': {'units': 'REQUIRED',\n",
       "  'activation': 'None',\n",
       "  'use_bias': 'True',\n",
       "  'kernel_initializer': 'glorot_uniform',\n",
       "  'bias_initializer': 'zeros',\n",
       "  'kernel_regularizer': 'None',\n",
       "  'bias_regularizer': 'None',\n",
       "  'activity_regularizer': 'None',\n",
       "  'kernel_constraint': 'None',\n",
       "  'bias_constraint': 'None'}}"
      ]
     },
     "execution_count": 176,
     "metadata": {},
     "output_type": "execute_result"
    }
   ],
   "source": [
    "build_config['layer_1']"
   ]
  },
  {
   "cell_type": "code",
   "execution_count": 177,
   "metadata": {},
   "outputs": [],
   "source": [
    "inputs = []\n",
    "\n",
    "for _id,config in build_config.items():\n",
    "    if config['name'] == 'Input':\n",
    "        inputs.append(_id)"
   ]
  },
  {
   "cell_type": "code",
   "execution_count": 178,
   "metadata": {},
   "outputs": [
    {
     "name": "stdout",
     "output_type": "stream",
     "text": [
      "0 layer_0 Input\n",
      "1 layer_5 Dense\n",
      "2 layer_1 Dense\n",
      "3 layer_3 Dense\n",
      "4 layer_2 Dense\n",
      "5 layer_4 Dense\n"
     ]
    }
   ],
   "source": [
    "levels = [ [] for i in range(len(build_config))]\n",
    "\n",
    "def h(node,config,di=0):\n",
    "    print (di,node,build_config[node]['name'])\n",
    "    levels[di].append(node)\n",
    "    if build_config[node]['connections']['outbound']:\n",
    "        h(build_config[node]['connections']['outbound'][0],build_config,di+1)\n",
    "    \n",
    "h(inputs[0],build_config,0)"
   ]
  },
  {
   "cell_type": "code",
   "execution_count": 179,
   "metadata": {},
   "outputs": [
    {
     "data": {
      "text/plain": [
       "[['layer_0'], ['layer_5'], ['layer_1'], ['layer_3'], ['layer_2'], ['layer_4']]"
      ]
     },
     "execution_count": 179,
     "metadata": {},
     "output_type": "execute_result"
    }
   ],
   "source": [
    "levels"
   ]
  },
  {
   "cell_type": "code",
   "execution_count": null,
   "metadata": {},
   "outputs": [],
   "source": []
  },
  {
   "cell_type": "code",
   "execution_count": 185,
   "metadata": {},
   "outputs": [
    {
     "ename": "KeyError",
     "evalue": "'units,'",
     "output_type": "error",
     "traceback": [
      "\u001b[1;31m---------------------------------------------------------------------------\u001b[0m",
      "\u001b[1;31mKeyError\u001b[0m                                  Traceback (most recent call last)",
      "\u001b[1;32m<ipython-input-185-02ba284f315f>\u001b[0m in \u001b[0;36m<module>\u001b[1;34m\u001b[0m\n\u001b[0;32m     17\u001b[0m \u001b[1;32mfor\u001b[0m \u001b[0mlevel\u001b[0m \u001b[1;32min\u001b[0m \u001b[0mlevels\u001b[0m\u001b[1;33m:\u001b[0m\u001b[1;33m\u001b[0m\u001b[1;33m\u001b[0m\u001b[0m\n\u001b[0;32m     18\u001b[0m     \u001b[1;32mfor\u001b[0m \u001b[0mlayer\u001b[0m \u001b[1;32min\u001b[0m \u001b[0mlevel\u001b[0m\u001b[1;33m:\u001b[0m\u001b[1;33m\u001b[0m\u001b[1;33m\u001b[0m\u001b[0m\n\u001b[1;32m---> 19\u001b[1;33m         \u001b[0mbuild\u001b[0m \u001b[1;33m+=\u001b[0m \u001b[0mcreate_layer\u001b[0m\u001b[1;33m(\u001b[0m\u001b[0mlayer\u001b[0m\u001b[1;33m,\u001b[0m\u001b[0mbuild_config\u001b[0m\u001b[1;33m[\u001b[0m\u001b[0mlayer\u001b[0m\u001b[1;33m]\u001b[0m\u001b[1;33m)\u001b[0m\u001b[1;33m\u001b[0m\u001b[1;33m\u001b[0m\u001b[0m\n\u001b[0m",
      "\u001b[1;32m<ipython-input-185-02ba284f315f>\u001b[0m in \u001b[0;36mcreate_layer\u001b[1;34m(layer_id, layer_config)\u001b[0m\n\u001b[0;32m      1\u001b[0m \u001b[1;32mdef\u001b[0m \u001b[0mcreate_layer\u001b[0m\u001b[1;33m(\u001b[0m\u001b[0mlayer_id\u001b[0m\u001b[1;33m,\u001b[0m\u001b[0mlayer_config\u001b[0m\u001b[1;33m)\u001b[0m\u001b[1;33m:\u001b[0m\u001b[1;33m\u001b[0m\u001b[1;33m\u001b[0m\u001b[0m\n\u001b[0;32m      2\u001b[0m     \u001b[0mdefault_arguments\u001b[0m \u001b[1;33m=\u001b[0m \u001b[0mlayers\u001b[0m\u001b[1;33m[\u001b[0m\u001b[0mlayer_config\u001b[0m\u001b[1;33m[\u001b[0m\u001b[1;34m'name'\u001b[0m\u001b[1;33m]\u001b[0m\u001b[1;33m]\u001b[0m\u001b[1;33m[\u001b[0m\u001b[1;34m'args'\u001b[0m\u001b[1;33m]\u001b[0m\u001b[1;33m\u001b[0m\u001b[1;33m\u001b[0m\u001b[0m\n\u001b[1;32m----> 3\u001b[1;33m     arguments = \",\\n\".join([ \n\u001b[0m\u001b[0;32m      4\u001b[0m         \u001b[1;34mf'\\t{arg}={val}'\u001b[0m \u001b[1;32mfor\u001b[0m \u001b[0marg\u001b[0m\u001b[1;33m,\u001b[0m\u001b[0mval\u001b[0m \u001b[1;32min\u001b[0m \u001b[0mlayer_config\u001b[0m\u001b[1;33m[\u001b[0m\u001b[1;34m'arguments'\u001b[0m\u001b[1;33m]\u001b[0m\u001b[1;33m.\u001b[0m\u001b[0mitems\u001b[0m\u001b[1;33m(\u001b[0m\u001b[1;33m)\u001b[0m\u001b[1;33m\u001b[0m\u001b[1;33m\u001b[0m\u001b[0m\n\u001b[0;32m      5\u001b[0m         \u001b[1;32mif\u001b[0m \u001b[0mval\u001b[0m \u001b[1;33m!=\u001b[0m \u001b[0mdefault_arguments\u001b[0m\u001b[1;33m[\u001b[0m\u001b[0marg\u001b[0m\u001b[1;33m]\u001b[0m\u001b[1;33m\u001b[0m\u001b[1;33m\u001b[0m\u001b[0m\n",
      "\u001b[1;32m<ipython-input-185-02ba284f315f>\u001b[0m in \u001b[0;36m<listcomp>\u001b[1;34m(.0)\u001b[0m\n\u001b[0;32m      3\u001b[0m     arguments = \",\\n\".join([ \n\u001b[0;32m      4\u001b[0m         \u001b[1;34mf'\\t{arg}={val}'\u001b[0m \u001b[1;32mfor\u001b[0m \u001b[0marg\u001b[0m\u001b[1;33m,\u001b[0m\u001b[0mval\u001b[0m \u001b[1;32min\u001b[0m \u001b[0mlayer_config\u001b[0m\u001b[1;33m[\u001b[0m\u001b[1;34m'arguments'\u001b[0m\u001b[1;33m]\u001b[0m\u001b[1;33m.\u001b[0m\u001b[0mitems\u001b[0m\u001b[1;33m(\u001b[0m\u001b[1;33m)\u001b[0m\u001b[1;33m\u001b[0m\u001b[1;33m\u001b[0m\u001b[0m\n\u001b[1;32m----> 5\u001b[1;33m         \u001b[1;32mif\u001b[0m \u001b[0mval\u001b[0m \u001b[1;33m!=\u001b[0m \u001b[0mdefault_arguments\u001b[0m\u001b[1;33m[\u001b[0m\u001b[0marg\u001b[0m\u001b[1;33m]\u001b[0m\u001b[1;33m\u001b[0m\u001b[1;33m\u001b[0m\u001b[0m\n\u001b[0m\u001b[0;32m      6\u001b[0m     ])\n\u001b[0;32m      7\u001b[0m \u001b[1;33m\u001b[0m\u001b[0m\n",
      "\u001b[1;31mKeyError\u001b[0m: 'units,'"
     ]
    }
   ],
   "source": [
    "def create_layer(layer_id,layer_config):\n",
    "    default_arguments = layers[layer_config['name']]['args']\n",
    "#     arguments = \",\\n\".join([ \n",
    "#         f'\\t{arg}={val}' for arg,val in layer_config['arguments'].items()  \n",
    "#         if val != default_arguments[arg]\n",
    "#     ])\n",
    "    \n",
    "    input_layers = layer_config['connections']['inbound']\n",
    "    input_layers = '[' + ', '.join(input_layers) + ']' if len(input_layers) > 1 else ( input_layers[0] if len(input_layers) else None )\n",
    "    \n",
    "    return f\"\"\"{layer} = layer.{layer_config['name']}(\n",
    "    {arguments}\n",
    "    ){ '(' + input_layers + ')' if input_layers else ''}\\n\\n\"\"\"\n",
    "\n",
    "build = \"\"\n",
    "\n",
    "for level in levels:\n",
    "    for layer in level:\n",
    "        build += create_layer(layer,build_config[layer])"
   ]
  },
  {
   "cell_type": "code",
   "execution_count": 186,
   "metadata": {},
   "outputs": [
    {
     "name": "stdout",
     "output_type": "stream",
     "text": [
      "layer_0 = layer.Input(\n",
      "    \n",
      "    )\n",
      "\n",
      "\n"
     ]
    }
   ],
   "source": [
    "print (build)"
   ]
  },
  {
   "cell_type": "code",
   "execution_count": 153,
   "metadata": {},
   "outputs": [],
   "source": [
    "model = f\"keras.Model([{ ', '.join(inputs) },], [{ ', '.join(levels[-1]) },])\""
   ]
  },
  {
   "cell_type": "code",
   "execution_count": 154,
   "metadata": {},
   "outputs": [],
   "source": [
    "code = \"\"\"\n",
    "import tensorflow as tf\n",
    "\n",
    "from tensorflow import keras\n",
    "from tensorflow.keras import layers,optimizers,losses,metrics,models\n",
    "\n",
    "{build}\n",
    "\n",
    "{model}\n",
    "\"\"\""
   ]
  },
  {
   "cell_type": "code",
   "execution_count": 155,
   "metadata": {},
   "outputs": [
    {
     "name": "stdout",
     "output_type": "stream",
     "text": [
      "\n",
      "import tensorflow as tf\n",
      "\n",
      "from tensorflow import keras\n",
      "from tensorflow.keras import layers,optimizers,losses,metrics,models\n",
      "\n",
      "layer_0 = layer.Input(\n",
      "    \tshape=None,\n",
      "\tbatch_size=None,\n",
      "\tname=None,\n",
      "\tdtype=None,\n",
      "\tsparse=False,\n",
      "\ttensor=None,\n",
      "\tragged=False\n",
      "    )\n",
      "\n",
      "layer_5 = layer.Dense(\n",
      "    \tunits,=REQUIRED,\n",
      "\tactivation=None,\n",
      "\tuse_bias=True,\n",
      "\tkernel_initializer=glorot_uniform,\n",
      "\tbias_initializer=zeros,\n",
      "\tkernel_regularizer=None,\n",
      "\tbias_regularizer=None,\n",
      "\tactivity_regularizer=None,\n",
      "\tkernel_constraint=None,\n",
      "\tbias_constraint=None\n",
      "    )(layer_0)\n",
      "\n",
      "layer_1 = layer.Dense(\n",
      "    \tunits,=REQUIRED,\n",
      "\tactivation=None,\n",
      "\tuse_bias=True,\n",
      "\tkernel_initializer=glorot_uniform,\n",
      "\tbias_initializer=zeros,\n",
      "\tkernel_regularizer=None,\n",
      "\tbias_regularizer=None,\n",
      "\tactivity_regularizer=None,\n",
      "\tkernel_constraint=None,\n",
      "\tbias_constraint=None\n",
      "    )(layer_5)\n",
      "\n",
      "layer_3 = layer.Dense(\n",
      "    \tunits,=REQUIRED,\n",
      "\tactivation=None,\n",
      "\tuse_bias=True,\n",
      "\tkernel_initializer=glorot_uniform,\n",
      "\tbias_initializer=zeros,\n",
      "\tkernel_regularizer=None,\n",
      "\tbias_regularizer=None,\n",
      "\tactivity_regularizer=None,\n",
      "\tkernel_constraint=None,\n",
      "\tbias_constraint=None\n",
      "    )(layer_1)\n",
      "\n",
      "layer_2 = layer.Dense(\n",
      "    \tunits,=REQUIRED,\n",
      "\tactivation=None,\n",
      "\tuse_bias=True,\n",
      "\tkernel_initializer=glorot_uniform,\n",
      "\tbias_initializer=zeros,\n",
      "\tkernel_regularizer=None,\n",
      "\tbias_regularizer=None,\n",
      "\tactivity_regularizer=None,\n",
      "\tkernel_constraint=None,\n",
      "\tbias_constraint=None\n",
      "    )(layer_3)\n",
      "\n",
      "layer_4 = layer.Dense(\n",
      "    \tunits,=REQUIRED,\n",
      "\tactivation=None,\n",
      "\tuse_bias=True,\n",
      "\tkernel_initializer=glorot_uniform,\n",
      "\tbias_initializer=zeros,\n",
      "\tkernel_regularizer=None,\n",
      "\tbias_regularizer=None,\n",
      "\tactivity_regularizer=None,\n",
      "\tkernel_constraint=None,\n",
      "\tbias_constraint=None\n",
      "    )(layer_2)\n",
      "\n",
      "\n",
      "\n",
      "keras.Model([layer_0,], [layer_4,])\n",
      "\n"
     ]
    }
   ],
   "source": [
    "print (code.format(build=build,model=model))"
   ]
  },
  {
   "cell_type": "code",
   "execution_count": null,
   "metadata": {},
   "outputs": [],
   "source": []
  },
  {
   "cell_type": "code",
   "execution_count": null,
   "metadata": {},
   "outputs": [],
   "source": []
  }
 ],
 "metadata": {
  "kernelspec": {
   "display_name": "Python 3",
   "language": "python",
   "name": "python3"
  },
  "language_info": {
   "codemirror_mode": {
    "name": "ipython",
    "version": 3
   },
   "file_extension": ".py",
   "mimetype": "text/x-python",
   "name": "python",
   "nbconvert_exporter": "python",
   "pygments_lexer": "ipython3",
   "version": "3.8.0"
  }
 },
 "nbformat": 4,
 "nbformat_minor": 4
}
