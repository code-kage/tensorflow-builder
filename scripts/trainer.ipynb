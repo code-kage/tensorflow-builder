{
 "cells": [
  {
   "cell_type": "code",
   "execution_count": 10,
   "metadata": {},
   "outputs": [],
   "source": [
    "import tensorflow as tf\n",
    "\n",
    "from tensorflow import keras\n",
    "from tensorflow.keras import layers,optimizers,losses\n",
    "\n",
    "from json import load"
   ]
  },
  {
   "cell_type": "code",
   "execution_count": 11,
   "metadata": {},
   "outputs": [],
   "source": [
    "with open(\"../data/example_build.json\",\"r\") as build_file:\n",
    "    build_config = load(build_file)"
   ]
  },
  {
   "cell_type": "code",
   "execution_count": 12,
   "metadata": {},
   "outputs": [],
   "source": [
    "inputs = []\n",
    "train_config = {\n",
    "    \"dataset\":None,\n",
    "    \"optimizer\":None,\n",
    "    \"model\":None,\n",
    "    \"compile\":None,\n",
    "    \"train\":None\n",
    "}\n",
    "\n",
    "\n",
    "for _id,config in build_config.items():\n",
    "    if config['type'] == 'Input':\n",
    "        inputs.append(_id)\n",
    "        \n",
    "    elif config['type'] == 'Dataset':\n",
    "        train_config['dataset'] = _id\n",
    "        \n",
    "    elif config['type'] == 'Optimizer':\n",
    "        train_config['optimizer'] = _id\n",
    "    \n",
    "build_config['input_nodes'] = inputs\n",
    "levels = [ set() for i in range(len(build_config))]\n",
    "def setLevel(node,config,di=0):\n",
    "    levels[di].add(node)\n",
    "    if build_config[node]['connections']['outbound']:\n",
    "        for next_node in build_config[node]['connections']['outbound']: \n",
    "            setLevel(next_node,build_config,di+1)\n",
    "\n",
    "\n",
    "for inp in inputs:\n",
    "    setLevel(inp,build_config,0)\n",
    "    \n",
    "build_config['levels'] = levels\n",
    "    \n",
    "levels = [list(level) for level in levels if len(level)]"
   ]
  },
  {
   "cell_type": "code",
   "execution_count": 13,
   "metadata": {},
   "outputs": [],
   "source": [
    "if train_config['optimizer']:\n",
    "    opt = build_config[train_config['optimizer']]\n",
    "    opt['_type'] = 'Adam'\n",
    "    \n",
    "    arguments =  build_arguments(opt['arguments'])  \n",
    "    globals()[opt['id']] = eval(f\"\"\"optimizers.{opt['_type']}(\n",
    "        {arguments}\n",
    "    )\"\"\")\n",
    "    \n",
    "if train_config['dataset']:\n",
    "    data = build_config[train_config['dataset']]\n",
    "    exec(data['arguments']['dataset']['value']+f\"\"\"\n",
    "globals()['{train_config['dataset']}'] = Dataset()\n",
    "\"\"\")"
   ]
  },
  {
   "cell_type": "code",
   "execution_count": 14,
   "metadata": {},
   "outputs": [],
   "source": [
    "def build_inbound(inbound:list)->str:\n",
    "    inbound = [ f\"\"\"build_config['train']['{node}']\"\"\" for node in inbound ]\n",
    "    return ( \"([\" + \", \".join(inbound) + \"])\" if len(inbound) > 1 else \"(\" + inbound[0] + \")\" ) if len(inbound) else \"\"\n",
    "\n",
    "def set_argument(argument,config):\n",
    "    value = config['value']\n",
    "    try:\n",
    "        value = eval(value)\n",
    "    except:\n",
    "        pass\n",
    "    return f\"    {argument}={value.__repr__() if config['type']=='str' else value},\"\n",
    "    \n",
    "def build_arguments(arguments:dict)->str:\n",
    "    arguments = '\\n'.join([ set_argument(arg,cnf) for arg,cnf in arguments.items() ])\n",
    "    return arguments\n",
    "\n",
    "def build_input(layer,build_config,*args,**kwargs)->str:\n",
    "    arguments =  build_arguments(layer['arguments'])\n",
    "    return eval(f\"\"\"layers.Input(\n",
    "{arguments}\n",
    ")\n",
    "\"\"\")\n",
    "\n",
    "def build_default(layer,build_config,*args,**kwargs)->str:\n",
    "    arguments =  build_arguments(layer['arguments'])\n",
    "    inbound = build_inbound(layer['connections']['inbound'])\n",
    "    \n",
    "    return eval(f\"\"\"layers.{layer['type']}(\n",
    "{arguments}\n",
    "){inbound}\n",
    "\"\"\")\n",
    "\n",
    "def build_optimizer(layer,build_config):\n",
    "    arguments =  build_arguments(layer['arguments'])  \n",
    "    globals()[layer['id']] = eval(f\"\"\"optimizers.{opt['_type']}(\n",
    "        {arguments}\n",
    "    )\"\"\")\n",
    "    return globals()[layer['id']]\n",
    "\n",
    "\n",
    "def build_model(layer,build_config,*args,**kwargs)->str:\n",
    "    in_nodes = [ f\"\"\"build_config['train']['{node}']\"\"\" for node in build_config['input_nodes']]\n",
    "    out_nodes = [ f\"\"\"build_config['train']['{node}']\"\"\" for node in layer['connections']['inbound']]\n",
    "    return eval(f\"\"\"keras.Model(\n",
    "    [ {', '.join(in_nodes)}, ],\n",
    "    [ {', '.join(out_nodes)}, ]\n",
    ")\"\"\")\n",
    "\n",
    "def build_compile(layer,build_config,*args,**kwargs)->str:\n",
    "    model,*_ = [node for node in layer['connections']['inbound'] if \"model\" in node]\n",
    "    eval(f\"\"\"\n",
    "build_config['train']['{model}'].compile(\n",
    "    optimizer={train_config['optimizer'] if train_config['optimizer'] else \"'\"+layer['arguments']['optmizer']['value']+\"'\"},\n",
    "    loss='{layer['arguments']['loss']['value']}',\n",
    ")\"\"\")\n",
    "    return True\n",
    "\n",
    "def build_train(layer,build_config,*args,**kwargs)->str:\n",
    "    train_config['train'] = layer\n",
    "    return \"\""
   ]
  },
  {
   "cell_type": "code",
   "execution_count": 15,
   "metadata": {},
   "outputs": [
    {
     "data": {
      "text/plain": [
       "{'input_1': <KerasTensor: shape=(None, 784) dtype=float32 (created by layer 'input_1')>,\n",
       " 'dense_1': <KerasTensor: shape=(None, 32) dtype=float32 (created by layer 'dense')>,\n",
       " 'dense_2': <KerasTensor: shape=(None, 10) dtype=float32 (created by layer 'dense_1')>,\n",
       " 'model_1': <tensorflow.python.keras.engine.functional.Functional at 0x20ed65b3d00>,\n",
       " 'compile_1': True,\n",
       " 'train_1': ''}"
      ]
     },
     "execution_count": 15,
     "metadata": {},
     "output_type": "execute_result"
    }
   ],
   "source": [
    "build_functions = {\n",
    "    \"Input\":build_input,\n",
    "    \"default\":build_default,\n",
    "    \"Model\":build_model,\n",
    "    \"Compile\":build_compile,\n",
    "    \"Train\":build_train\n",
    "}\n",
    "\n",
    "build_config['train'] = {\n",
    "    \n",
    "}\n",
    "\n",
    "for level in levels:\n",
    "    for layer in level:\n",
    "        layer = build_config[layer]\n",
    "        if layer['type'] in build_functions:\n",
    "            layer_build = build_functions[layer['type']](layer,build_config) \n",
    "        else:\n",
    "            layer_build = build_functions['default'](layer,build_config) \n",
    "        build_config['train'][layer['id']] = layer_build\n",
    "        \n",
    "build_config['train']"
   ]
  },
  {
   "cell_type": "code",
   "execution_count": 16,
   "metadata": {},
   "outputs": [],
   "source": [
    "if train_config['dataset']:\n",
    "    data = build_config[train_config['dataset']]\n",
    "    exec(data['arguments']['dataset']['value']+f\"\"\"\n",
    "globals()['{train_config['dataset']}'] = Dataset()\n",
    "\"\"\")"
   ]
  },
  {
   "cell_type": "code",
   "execution_count": 17,
   "metadata": {},
   "outputs": [],
   "source": [
    "model = build_config['train']['model_1']"
   ]
  },
  {
   "cell_type": "code",
   "execution_count": 18,
   "metadata": {},
   "outputs": [
    {
     "name": "stdout",
     "output_type": "stream",
     "text": [
      "Model: \"model\"\n",
      "_________________________________________________________________\n",
      "Layer (type)                 Output Shape              Param #   \n",
      "=================================================================\n",
      "input_1 (InputLayer)         [(None, 784)]             0         \n",
      "_________________________________________________________________\n",
      "dense (Dense)                (None, 32)                25120     \n",
      "_________________________________________________________________\n",
      "dense_1 (Dense)              (None, 10)                330       \n",
      "=================================================================\n",
      "Total params: 25,450\n",
      "Trainable params: 25,450\n",
      "Non-trainable params: 0\n",
      "_________________________________________________________________\n"
     ]
    }
   ],
   "source": [
    "model.summary()"
   ]
  },
  {
   "cell_type": "code",
   "execution_count": null,
   "metadata": {},
   "outputs": [],
   "source": [
    "class TfGui(keras.callbacks.Callback):\n",
    "    batch = None\n",
    "    logs = []\n",
    "    def on_batch_end(self,batch,logs=None):\n",
    "        self.batch = batch\n",
    "        self.logs.append(logs)\n",
    "    \n",
    "    def on_epoch_end(self,epoch,logs=None):\n",
    "        print (self.model)\n",
    "    \n",
    "tf_gui = TfGui()"
   ]
  },
  {
   "cell_type": "code",
   "execution_count": null,
   "metadata": {},
   "outputs": [],
   "source": [
    "dataset = globals()[train_config['dataset']]\n",
    "\n",
    "model.fit(\n",
    "    x=dataset.train_x,\n",
    "    y=dataset.train_y,\n",
    "    epochs=1,\n",
    "    batch_size=32,\n",
    "    validation_data=(dataset.test_x,dataset.test_y) if dataset.validate else None,\n",
    "    callbacks=[tf_gui]\n",
    ")"
   ]
  },
  {
   "cell_type": "code",
   "execution_count": null,
   "metadata": {},
   "outputs": [],
   "source": [
    "tf_gui.logs"
   ]
  },
  {
   "cell_type": "code",
   "execution_count": null,
   "metadata": {},
   "outputs": [],
   "source": [
    "from json import dumps"
   ]
  },
  {
   "cell_type": "code",
   "execution_count": null,
   "metadata": {},
   "outputs": [],
   "source": [
    "dumps([\n",
    "    {'type': 'notif', 'data': {'message': 'Copiling Code'}}, {'type': 'notif', 'data': {'message': 'Performing imports'}}, {'type': 'notif', 'data': {'message': 'Building Model'}}, {'type': 'notif', 'data': {'message': 'Compiling Model'}}, {'type': 'notif', 'data': {'message': 'Training Started'}}, {'type': 'epoch', 'data': {'epoch': 0, 'log': {'batch': 745, 'output': {'loss': 1.227247953414917}}, 'train': {'epochs': 1, 'batches': 7500}}}\n",
    "])"
   ]
  },
  {
   "cell_type": "code",
   "execution_count": null,
   "metadata": {},
   "outputs": [],
   "source": []
  }
 ],
 "metadata": {
  "kernelspec": {
   "display_name": "Python 3",
   "language": "python",
   "name": "python3"
  },
  "language_info": {
   "codemirror_mode": {
    "name": "ipython",
    "version": 3
   },
   "file_extension": ".py",
   "mimetype": "text/x-python",
   "name": "python",
   "nbconvert_exporter": "python",
   "pygments_lexer": "ipython3",
   "version": "3.8.0"
  }
 },
 "nbformat": 4,
 "nbformat_minor": 4
}
