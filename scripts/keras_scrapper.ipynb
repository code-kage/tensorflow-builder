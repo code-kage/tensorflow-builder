{
 "cells": [
  {
   "cell_type": "code",
   "execution_count": 1,
   "metadata": {},
   "outputs": [],
   "source": [
    "import re\n",
    "\n",
    "from selenium.webdriver import Chrome\n",
    "from json import load,dump"
   ]
  },
  {
   "cell_type": "code",
   "execution_count": 2,
   "metadata": {},
   "outputs": [],
   "source": [
    "bot = Chrome()"
   ]
  },
  {
   "cell_type": "code",
   "execution_count": 3,
   "metadata": {},
   "outputs": [],
   "source": [
    "base_url = 'https://keras.io/api/layers'"
   ]
  },
  {
   "cell_type": "code",
   "execution_count": 4,
   "metadata": {},
   "outputs": [],
   "source": [
    "bot.get(base_url)"
   ]
  },
  {
   "cell_type": "code",
   "execution_count": 5,
   "metadata": {},
   "outputs": [],
   "source": [
    "groups = [ group.text.lower().replace(\"-\",\"\").replace(\" \",\"-\") for group in bot.find_elements_by_tag_name(\"h3\")[5:]]"
   ]
  },
  {
   "cell_type": "code",
   "execution_count": null,
   "metadata": {},
   "outputs": [],
   "source": [
    "elem = None\n",
    "\n",
    "config = {}\n",
    "\n",
    "for group in groups:\n",
    "    bot.get(base_url)\n",
    "    elem = bot.find_element_by_id(group)\n",
    "    elem.find_element_by_tag_name(\"a\").click()\n",
    "    \n",
    "    group_url = bot.current_url\n",
    "    group_name = bot.find_element_by_id(group).text\n",
    "    \n",
    "    layer_urls = [ (a.text,a.get_property(\"href\")) for a in bot.find_element_by_tag_name(\"ul\").find_elements_by_tag_name(\"a\")]\n",
    "    group_layers = []\n",
    "    for name,url in layer_urls:\n",
    "        bot.get(url)\n",
    "        layer_name = re.sub(\"( layer)|( object)|( layers)\",\"\",name)\n",
    "        code = bot.find_element_by_tag_name(\"pre\")\n",
    "        args = dict([\n",
    "            i.strip()\n",
    "            .replace(\"\\\"\",\"\")\n",
    "            .replace(\",\",\"\")\n",
    "            .split(\"=\") if \"=\" in i else (i.strip().replace(\"\\\"\",\"\").replace(\",\",\"\"),\"REQUIRED\")\n",
    "            for i in \n",
    "            code.text.split(\"\\n\")[1:-1]\n",
    "            if 'kwargs' not in i\n",
    "        ])\n",
    "        group_layers.append(dict(\n",
    "            name=layer_name,\n",
    "            args=args,\n",
    "            doc=url\n",
    "        ))\n",
    "        \n",
    "    config[group] = dict(\n",
    "        name=group_name,\n",
    "        layers=group_layers,\n",
    "        doc=group_url\n",
    "    )"
   ]
  },
  {
   "cell_type": "code",
   "execution_count": null,
   "metadata": {},
   "outputs": [],
   "source": [
    "with open(\"../data/layer_config.json\",\"w+\") as file:\n",
    "    dump(config,file)"
   ]
  }
 ],
 "metadata": {
  "kernelspec": {
   "display_name": "Python 3",
   "language": "python",
   "name": "python3"
  },
  "language_info": {
   "codemirror_mode": {
    "name": "ipython",
    "version": 3
   },
   "file_extension": ".py",
   "mimetype": "text/x-python",
   "name": "python",
   "nbconvert_exporter": "python",
   "pygments_lexer": "ipython3",
   "version": "3.8.0"
  }
 },
 "nbformat": 4,
 "nbformat_minor": 4
}
